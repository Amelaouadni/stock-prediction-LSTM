{
  "nbformat": 4,
  "nbformat_minor": 0,
  "metadata": {
    "kernelspec": {
      "display_name": "Python 3",
      "language": "python",
      "name": "python3"
    },
    "language_info": {
      "codemirror_mode": {
        "name": "ipython",
        "version": 3
      },
      "file_extension": ".py",
      "mimetype": "text/x-python",
      "name": "python",
      "nbconvert_exporter": "python",
      "pygments_lexer": "ipython3",
      "version": "3.8.5"
    },
    "colab": {
      "name": "stockmarket forcasting(LSTM).ipynb",
      "provenance": [],
      "include_colab_link": true
    }
  },
  "cells": [
    {
      "cell_type": "markdown",
      "metadata": {
        "id": "view-in-github",
        "colab_type": "text"
      },
      "source": [
        "<a href=\"https://colab.research.google.com/github/Amelaouadni/stock-prediction-LSTM/blob/main/stockmarket_forcasting(LSTM).ipynb\" target=\"_parent\"><img src=\"https://colab.research.google.com/assets/colab-badge.svg\" alt=\"Open In Colab\"/></a>"
      ]
    },
    {
      "cell_type": "code",
      "metadata": {
        "id": "rP_sgJiO2JIg"
      },
      "source": [
        "import pandas as pd"
      ],
      "execution_count": 1,
      "outputs": []
    },
    {
      "cell_type": "code",
      "metadata": {
        "id": "M_gJFXj_2JIu"
      },
      "source": [
        "df= pd.read_csv('/content/AAPL.csv')"
      ],
      "execution_count": 2,
      "outputs": []
    },
    {
      "cell_type": "code",
      "metadata": {
        "colab": {
          "base_uri": "https://localhost:8080/",
          "height": 317
        },
        "id": "pZlJlivo2JIx",
        "outputId": "a6b20ccd-1ad5-40a0-dfa0-18ccf62067c4"
      },
      "source": [
        "df.head()"
      ],
      "execution_count": 3,
      "outputs": [
        {
          "output_type": "execute_result",
          "data": {
            "text/html": [
              "<div>\n",
              "<style scoped>\n",
              "    .dataframe tbody tr th:only-of-type {\n",
              "        vertical-align: middle;\n",
              "    }\n",
              "\n",
              "    .dataframe tbody tr th {\n",
              "        vertical-align: top;\n",
              "    }\n",
              "\n",
              "    .dataframe thead th {\n",
              "        text-align: right;\n",
              "    }\n",
              "</style>\n",
              "<table border=\"1\" class=\"dataframe\">\n",
              "  <thead>\n",
              "    <tr style=\"text-align: right;\">\n",
              "      <th></th>\n",
              "      <th>Unnamed: 0</th>\n",
              "      <th>symbol</th>\n",
              "      <th>date</th>\n",
              "      <th>close</th>\n",
              "      <th>high</th>\n",
              "      <th>low</th>\n",
              "      <th>open</th>\n",
              "      <th>volume</th>\n",
              "      <th>adjClose</th>\n",
              "      <th>adjHigh</th>\n",
              "      <th>adjLow</th>\n",
              "      <th>adjOpen</th>\n",
              "      <th>adjVolume</th>\n",
              "      <th>divCash</th>\n",
              "      <th>splitFactor</th>\n",
              "    </tr>\n",
              "  </thead>\n",
              "  <tbody>\n",
              "    <tr>\n",
              "      <th>0</th>\n",
              "      <td>0</td>\n",
              "      <td>AAPL</td>\n",
              "      <td>2015-05-27 00:00:00+00:00</td>\n",
              "      <td>132.045</td>\n",
              "      <td>132.260</td>\n",
              "      <td>130.05</td>\n",
              "      <td>130.34</td>\n",
              "      <td>45833246</td>\n",
              "      <td>121.682558</td>\n",
              "      <td>121.880685</td>\n",
              "      <td>119.844118</td>\n",
              "      <td>120.111360</td>\n",
              "      <td>45833246</td>\n",
              "      <td>0.0</td>\n",
              "      <td>1.0</td>\n",
              "    </tr>\n",
              "    <tr>\n",
              "      <th>1</th>\n",
              "      <td>1</td>\n",
              "      <td>AAPL</td>\n",
              "      <td>2015-05-28 00:00:00+00:00</td>\n",
              "      <td>131.780</td>\n",
              "      <td>131.950</td>\n",
              "      <td>131.10</td>\n",
              "      <td>131.86</td>\n",
              "      <td>30733309</td>\n",
              "      <td>121.438354</td>\n",
              "      <td>121.595013</td>\n",
              "      <td>120.811718</td>\n",
              "      <td>121.512076</td>\n",
              "      <td>30733309</td>\n",
              "      <td>0.0</td>\n",
              "      <td>1.0</td>\n",
              "    </tr>\n",
              "    <tr>\n",
              "      <th>2</th>\n",
              "      <td>2</td>\n",
              "      <td>AAPL</td>\n",
              "      <td>2015-05-29 00:00:00+00:00</td>\n",
              "      <td>130.280</td>\n",
              "      <td>131.450</td>\n",
              "      <td>129.90</td>\n",
              "      <td>131.23</td>\n",
              "      <td>50884452</td>\n",
              "      <td>120.056069</td>\n",
              "      <td>121.134251</td>\n",
              "      <td>119.705890</td>\n",
              "      <td>120.931516</td>\n",
              "      <td>50884452</td>\n",
              "      <td>0.0</td>\n",
              "      <td>1.0</td>\n",
              "    </tr>\n",
              "    <tr>\n",
              "      <th>3</th>\n",
              "      <td>3</td>\n",
              "      <td>AAPL</td>\n",
              "      <td>2015-06-01 00:00:00+00:00</td>\n",
              "      <td>130.535</td>\n",
              "      <td>131.390</td>\n",
              "      <td>130.05</td>\n",
              "      <td>131.20</td>\n",
              "      <td>32112797</td>\n",
              "      <td>120.291057</td>\n",
              "      <td>121.078960</td>\n",
              "      <td>119.844118</td>\n",
              "      <td>120.903870</td>\n",
              "      <td>32112797</td>\n",
              "      <td>0.0</td>\n",
              "      <td>1.0</td>\n",
              "    </tr>\n",
              "    <tr>\n",
              "      <th>4</th>\n",
              "      <td>4</td>\n",
              "      <td>AAPL</td>\n",
              "      <td>2015-06-02 00:00:00+00:00</td>\n",
              "      <td>129.960</td>\n",
              "      <td>130.655</td>\n",
              "      <td>129.32</td>\n",
              "      <td>129.86</td>\n",
              "      <td>33667627</td>\n",
              "      <td>119.761181</td>\n",
              "      <td>120.401640</td>\n",
              "      <td>119.171406</td>\n",
              "      <td>119.669029</td>\n",
              "      <td>33667627</td>\n",
              "      <td>0.0</td>\n",
              "      <td>1.0</td>\n",
              "    </tr>\n",
              "  </tbody>\n",
              "</table>\n",
              "</div>"
            ],
            "text/plain": [
              "   Unnamed: 0 symbol  ... divCash  splitFactor\n",
              "0           0   AAPL  ...     0.0          1.0\n",
              "1           1   AAPL  ...     0.0          1.0\n",
              "2           2   AAPL  ...     0.0          1.0\n",
              "3           3   AAPL  ...     0.0          1.0\n",
              "4           4   AAPL  ...     0.0          1.0\n",
              "\n",
              "[5 rows x 15 columns]"
            ]
          },
          "metadata": {
            "tags": []
          },
          "execution_count": 3
        }
      ]
    },
    {
      "cell_type": "code",
      "metadata": {
        "id": "Z2oIDwpQ2JIz"
      },
      "source": [
        "df1= df.reset_index()['close']"
      ],
      "execution_count": 4,
      "outputs": []
    },
    {
      "cell_type": "code",
      "metadata": {
        "colab": {
          "base_uri": "https://localhost:8080/"
        },
        "id": "FCqFc6582JI0",
        "outputId": "84cf864c-7042-4094-adae-462453cb723f"
      },
      "source": [
        "df1"
      ],
      "execution_count": 5,
      "outputs": [
        {
          "output_type": "execute_result",
          "data": {
            "text/plain": [
              "0       132.045\n",
              "1       131.780\n",
              "2       130.280\n",
              "3       130.535\n",
              "4       129.960\n",
              "         ...   \n",
              "1253    314.960\n",
              "1254    313.140\n",
              "1255    319.230\n",
              "1256    316.850\n",
              "1257    318.890\n",
              "Name: close, Length: 1258, dtype: float64"
            ]
          },
          "metadata": {
            "tags": []
          },
          "execution_count": 5
        }
      ]
    },
    {
      "cell_type": "code",
      "metadata": {
        "colab": {
          "base_uri": "https://localhost:8080/"
        },
        "id": "m9oc6GCP2JI4",
        "outputId": "e862c9bb-b8f4-430b-83b6-158f0319e26c"
      },
      "source": [
        "df1.shape"
      ],
      "execution_count": 6,
      "outputs": [
        {
          "output_type": "execute_result",
          "data": {
            "text/plain": [
              "(1258,)"
            ]
          },
          "metadata": {
            "tags": []
          },
          "execution_count": 6
        }
      ]
    },
    {
      "cell_type": "code",
      "metadata": {
        "id": "NC9rNq_H2JI5"
      },
      "source": [
        "import matplotlib.pyplot as plt"
      ],
      "execution_count": 7,
      "outputs": []
    },
    {
      "cell_type": "code",
      "metadata": {
        "colab": {
          "base_uri": "https://localhost:8080/",
          "height": 282
        },
        "id": "7diF3vcY2JI7",
        "outputId": "36088837-8a71-4b11-e927-40d7164212a4"
      },
      "source": [
        "plt.plot(df1)"
      ],
      "execution_count": 8,
      "outputs": [
        {
          "output_type": "execute_result",
          "data": {
            "text/plain": [
              "[<matplotlib.lines.Line2D at 0x7f8448e73908>]"
            ]
          },
          "metadata": {
            "tags": []
          },
          "execution_count": 8
        },
        {
          "output_type": "display_data",
          "data": {
            "image/png": "[encoded data removed]",
            "text/plain": [
              "<Figure size 432x288 with 1 Axes>"
            ]
          },
          "metadata": {
            "tags": [],
            "needs_background": "light"
          }
        }
      ]
    },
    {
      "cell_type": "code",
      "metadata": {
        "id": "i9jHH1oz2JI8"
      },
      "source": [
        "import numpy as np"
      ],
      "execution_count": 9,
      "outputs": []
    },
    {
      "cell_type": "code",
      "metadata": {
        "id": "yxI_1ZvY2JI9"
      },
      "source": [
        "from sklearn.preprocessing import MinMaxScaler"
      ],
      "execution_count": 10,
      "outputs": []
    },
    {
      "cell_type": "code",
      "metadata": {
        "id": "bm8ZO5h02JI9"
      },
      "source": [
        "scaler=MinMaxScaler(feature_range=(0,1))\n",
        "df1=scaler.fit_transform(np.array(df1).reshape(-1,1))"
      ],
      "execution_count": 11,
      "outputs": []
    },
    {
      "cell_type": "code",
      "metadata": {
        "colab": {
          "base_uri": "https://localhost:8080/"
        },
        "id": "L-BAyege2JI-",
        "outputId": "e234a01c-dbe4-4f29-dd2e-dd9e5205b14e"
      },
      "source": [
        "print(df1)"
      ],
      "execution_count": 12,
      "outputs": [
        {
          "output_type": "stream",
          "text": [
            "[[0.17607447]\n",
            " [0.17495567]\n",
            " [0.16862282]\n",
            " ...\n",
            " [0.96635143]\n",
            " [0.9563033 ]\n",
            " [0.96491598]]\n"
          ],
          "name": "stdout"
        }
      ]
    },
    {
      "cell_type": "code",
      "metadata": {
        "colab": {
          "base_uri": "https://localhost:8080/"
        },
        "id": "db-6amdD2JI_",
        "outputId": "59414a3c-ca45-4c20-f142-62ef439f6bb1"
      },
      "source": [
        "df1.shape"
      ],
      "execution_count": 13,
      "outputs": [
        {
          "output_type": "execute_result",
          "data": {
            "text/plain": [
              "(1258, 1)"
            ]
          },
          "metadata": {
            "tags": []
          },
          "execution_count": 13
        }
      ]
    },
    {
      "cell_type": "markdown",
      "metadata": {
        "id": "WxmJebdR2JJA"
      },
      "source": [
        "#spliting dataset into train and test "
      ]
    },
    {
      "cell_type": "code",
      "metadata": {
        "id": "jl3VNTvg2JJA"
      },
      "source": [
        "training_size=int(len(df1)*0.65)\n",
        "test_size=len(df1)-training_size\n",
        "train_data,test_data=df1[0:training_size,:],df1[training_size:len(df1),:1]"
      ],
      "execution_count": 14,
      "outputs": []
    },
    {
      "cell_type": "code",
      "metadata": {
        "colab": {
          "base_uri": "https://localhost:8080/"
        },
        "id": "m2fHihwN2JJB",
        "outputId": "ba31b7fb-5b9a-44dc-cf52-195c1cbd7180"
      },
      "source": [
        "training_size,test_size"
      ],
      "execution_count": 15,
      "outputs": [
        {
          "output_type": "execute_result",
          "data": {
            "text/plain": [
              "(817, 441)"
            ]
          },
          "metadata": {
            "tags": []
          },
          "execution_count": 15
        }
      ]
    },
    {
      "cell_type": "code",
      "metadata": {
        "colab": {
          "base_uri": "https://localhost:8080/"
        },
        "id": "MEljQm9_2JJC",
        "outputId": "fc99cf27-7ea5-434e-a447-5f8338d06dcc"
      },
      "source": [
        "train_data"
      ],
      "execution_count": 16,
      "outputs": [
        {
          "output_type": "execute_result",
          "data": {
            "text/plain": [
              "array([[0.17607447],\n",
              "       [0.17495567],\n",
              "       [0.16862282],\n",
              "       [0.1696994 ],\n",
              "       [0.16727181],\n",
              "       [0.16794731],\n",
              "       [0.16473866],\n",
              "       [0.16174111],\n",
              "       [0.1581525 ],\n",
              "       [0.15654817],\n",
              "       [0.16271215],\n",
              "       [0.1614878 ],\n",
              "       [0.1554927 ],\n",
              "       [0.15443722],\n",
              "       [0.15730811],\n",
              "       [0.15604154],\n",
              "       [0.15849025],\n",
              "       [0.15308621],\n",
              "       [0.15735033],\n",
              "       [0.15490163],\n",
              "       [0.15946129],\n",
              "       [0.15688592],\n",
              "       [0.1537195 ],\n",
              "       [0.14434687],\n",
              "       [0.14812547],\n",
              "       [0.15308621],\n",
              "       [0.15241071],\n",
              "       [0.15055307],\n",
              "       [0.14924428],\n",
              "       [0.13607194],\n",
              "       [0.12551718],\n",
              "       [0.13906949],\n",
              "       [0.14911762],\n",
              "       [0.14890653],\n",
              "       [0.15401503],\n",
              "       [0.16115005],\n",
              "       [0.16583636],\n",
              "       [0.17618002],\n",
              "       [0.17060711],\n",
              "       [0.14725998],\n",
              "       [0.14700667],\n",
              "       [0.14422021],\n",
              "       [0.13691632],\n",
              "       [0.13949168],\n",
              "       [0.13784514],\n",
              "       [0.13522756],\n",
              "       [0.13071012],\n",
              "       [0.11863548],\n",
              "       [0.10259225],\n",
              "       [0.1058009 ],\n",
              "       [0.10466098],\n",
              "       [0.10630752],\n",
              "       [0.12403952],\n",
              "       [0.09773706],\n",
              "       [0.10512539],\n",
              "       [0.10474542],\n",
              "       [0.10816516],\n",
              "       [0.11323144],\n",
              "       [0.11044499],\n",
              "       [0.10415435],\n",
              "       [0.09419066],\n",
              "       [0.06510175],\n",
              "       [0.05395592],\n",
              "       [0.0565735 ],\n",
              "       [0.08169383],\n",
              "       [0.09533058],\n",
              "       [0.09689268],\n",
              "       [0.09465507],\n",
              "       [0.07337668],\n",
              "       [0.09288187],\n",
              "       [0.08456472],\n",
              "       [0.07992063],\n",
              "       [0.09275521],\n",
              "       [0.0836359 ],\n",
              "       [0.09385291],\n",
              "       [0.10077683],\n",
              "       [0.10542092],\n",
              "       [0.10951617],\n",
              "       [0.11006502],\n",
              "       [0.09955248],\n",
              "       [0.09756818],\n",
              "       [0.10499873],\n",
              "       [0.09735709],\n",
              "       [0.10124124],\n",
              "       [0.10411213],\n",
              "       [0.10288778],\n",
              "       [0.09330406],\n",
              "       [0.07903403],\n",
              "       [0.08426919],\n",
              "       [0.08122942],\n",
              "       [0.08460694],\n",
              "       [0.0862957 ],\n",
              "       [0.08853331],\n",
              "       [0.0862957 ],\n",
              "       [0.08089167],\n",
              "       [0.09195305],\n",
              "       [0.08975766],\n",
              "       [0.09055982],\n",
              "       [0.08388922],\n",
              "       [0.09085536],\n",
              "       [0.0873934 ],\n",
              "       [0.09030651],\n",
              "       [0.09891919],\n",
              "       [0.09887697],\n",
              "       [0.10622309],\n",
              "       [0.1213375 ],\n",
              "       [0.10529427],\n",
              "       [0.10221228],\n",
              "       [0.12213966],\n",
              "       [0.12745926],\n",
              "       [0.1231107 ],\n",
              "       [0.1302035 ],\n",
              "       [0.13607194],\n",
              "       [0.13366546],\n",
              "       [0.1291058 ],\n",
              "       [0.12969687],\n",
              "       [0.12762813],\n",
              "       [0.1115849 ],\n",
              "       [0.10879845],\n",
              "       [0.1071519 ],\n",
              "       [0.09288187],\n",
              "       [0.10062906],\n",
              "       [0.09858144],\n",
              "       [0.11378029],\n",
              "       [0.12007093],\n",
              "       [0.12226632],\n",
              "       [0.11572237],\n",
              "       [0.12049312],\n",
              "       [0.1169045 ],\n",
              "       [0.11597568],\n",
              "       [0.11804441],\n",
              "       [0.11399139],\n",
              "       [0.10951617],\n",
              "       [0.10495651],\n",
              "       [0.1211264 ],\n",
              "       [0.11795998],\n",
              "       [0.11774888],\n",
              "       [0.10672971],\n",
              "       [0.10905176],\n",
              "       [0.09642827],\n",
              "       [0.09347294],\n",
              "       [0.08507135],\n",
              "       [0.08865997],\n",
              "       [0.07869628],\n",
              "       [0.06624166],\n",
              "       [0.07173014],\n",
              "       [0.07130795],\n",
              "       [0.07713417],\n",
              "       [0.07468547],\n",
              "       [0.06957697],\n",
              "       [0.07768302],\n",
              "       [0.07168792],\n",
              "       [0.0629908 ],\n",
              "       [0.06337077],\n",
              "       [0.05222494],\n",
              "       [0.04373892],\n",
              "       [0.02579583],\n",
              "       [0.027949  ],\n",
              "       [0.03457739],\n",
              "       [0.04061471],\n",
              "       [0.02976442],\n",
              "       [0.03875707],\n",
              "       [0.02866672],\n",
              "       [0.02668243],\n",
              "       [0.02723128],\n",
              "       [0.02516254],\n",
              "       [0.04677869],\n",
              "       [0.03841932],\n",
              "       [0.04074137],\n",
              "       [0.01300346],\n",
              "       [0.01583214],\n",
              "       [0.02955332],\n",
              "       [0.02571139],\n",
              "       [0.01747868],\n",
              "       [0.02537364],\n",
              "       [0.02642911],\n",
              "       [0.0155366 ],\n",
              "       [0.01971629],\n",
              "       [0.01963185],\n",
              "       [0.01659208],\n",
              "       [0.01418559],\n",
              "       [0.01540995],\n",
              "       [0.02659799],\n",
              "       [0.03284641],\n",
              "       [0.02499367],\n",
              "       [0.02406485],\n",
              "       [0.02761125],\n",
              "       [0.01836528],\n",
              "       [0.02431816],\n",
              "       [0.02710462],\n",
              "       [0.0277379 ],\n",
              "       [0.02680909],\n",
              "       [0.04302119],\n",
              "       [0.04395001],\n",
              "       [0.04711644],\n",
              "       [0.05349151],\n",
              "       [0.04867854],\n",
              "       [0.04513215],\n",
              "       [0.04551212],\n",
              "       [0.04572321],\n",
              "       [0.05032509],\n",
              "       [0.05142278],\n",
              "       [0.0601199 ],\n",
              "       [0.06598835],\n",
              "       [0.06527062],\n",
              "       [0.06577725],\n",
              "       [0.06573503],\n",
              "       [0.06915477],\n",
              "       [0.06666385],\n",
              "       [0.06472178],\n",
              "       [0.06269526],\n",
              "       [0.0732078 ],\n",
              "       [0.08114498],\n",
              "       [0.0787385 ],\n",
              "       [0.0829604 ],\n",
              "       [0.08773115],\n",
              "       [0.08220046],\n",
              "       [0.08705564],\n",
              "       [0.07683864],\n",
              "       [0.07734527],\n",
              "       [0.07886515],\n",
              "       [0.08486026],\n",
              "       [0.0916153 ],\n",
              "       [0.09186861],\n",
              "       [0.08236933],\n",
              "       [0.07236342],\n",
              "       [0.06995694],\n",
              "       [0.07088576],\n",
              "       [0.06598835],\n",
              "       [0.064764  ],\n",
              "       [0.06223085],\n",
              "       [0.05914886],\n",
              "       [0.03157984],\n",
              "       [0.01895635],\n",
              "       [0.01435447],\n",
              "       [0.01393228],\n",
              "       [0.02043401],\n",
              "       [0.01625433],\n",
              "       [0.01224352],\n",
              "       [0.01004813],\n",
              "       [0.01034366],\n",
              "       [0.01300346],\n",
              "       [0.00916153],\n",
              "       [0.        ],\n",
              "       [0.00075994],\n",
              "       [0.01494554],\n",
              "       [0.013299  ],\n",
              "       [0.01781643],\n",
              "       [0.01629655],\n",
              "       [0.02060289],\n",
              "       [0.02571139],\n",
              "       [0.03191759],\n",
              "       [0.03917926],\n",
              "       [0.04251457],\n",
              "       [0.04226125],\n",
              "       [0.04019252],\n",
              "       [0.03428185],\n",
              "       [0.03115765],\n",
              "       [0.03200203],\n",
              "       [0.03499958],\n",
              "       [0.03668834],\n",
              "       [0.03630837],\n",
              "       [0.03930592],\n",
              "       [0.03584396],\n",
              "       [0.02955332],\n",
              "       [0.03005995],\n",
              "       [0.02870894],\n",
              "       [0.03043992],\n",
              "       [0.0210673 ],\n",
              "       [0.02009626],\n",
              "       [0.023516  ],\n",
              "       [0.02199612],\n",
              "       [0.02431816],\n",
              "       [0.01291902],\n",
              "       [0.00717724],\n",
              "       [0.01372119],\n",
              "       [0.01714093],\n",
              "       [0.02220721],\n",
              "       [0.02343156],\n",
              "       [0.01963185],\n",
              "       [0.02191168],\n",
              "       [0.02364266],\n",
              "       [0.02676687],\n",
              "       [0.02803344],\n",
              "       [0.02989107],\n",
              "       [0.02756903],\n",
              "       [0.03567508],\n",
              "       [0.03563286],\n",
              "       [0.04006586],\n",
              "       [0.04023474],\n",
              "       [0.04061471],\n",
              "       [0.0383771 ],\n",
              "       [0.03512623],\n",
              "       [0.02955332],\n",
              "       [0.02672465],\n",
              "       [0.0532382 ],\n",
              "       [0.05910665],\n",
              "       [0.0585578 ],\n",
              "       [0.0663261 ],\n",
              "       [0.05969771],\n",
              "       [0.0652284 ],\n",
              "       [0.06556616],\n",
              "       [0.07236342],\n",
              "       [0.07612092],\n",
              "       [0.07797855],\n",
              "       [0.07455881],\n",
              "       [0.07426328],\n",
              "       [0.07531875],\n",
              "       [0.08080723],\n",
              "       [0.08038504],\n",
              "       [0.07970953],\n",
              "       [0.07911847],\n",
              "       [0.0803006 ],\n",
              "       [0.07671198],\n",
              "       [0.07814743],\n",
              "       [0.07468547],\n",
              "       [0.07274339],\n",
              "       [0.07008359],\n",
              "       [0.06957697],\n",
              "       [0.066115  ],\n",
              "       [0.06653719],\n",
              "       [0.06919699],\n",
              "       [0.0734189 ],\n",
              "       [0.07329224],\n",
              "       [0.0760787 ],\n",
              "       [0.06408849],\n",
              "       [0.05399814],\n",
              "       [0.06375074],\n",
              "       [0.07434772],\n",
              "       [0.09047539],\n",
              "       [0.10651862],\n",
              "       [0.10377438],\n",
              "       [0.09811703],\n",
              "       [0.09807481],\n",
              "       [0.09799037],\n",
              "       [0.10250781],\n",
              "       [0.09444398],\n",
              "       [0.0951617 ],\n",
              "       [0.0960483 ],\n",
              "       [0.09967914],\n",
              "       [0.09220637],\n",
              "       [0.09587942],\n",
              "       [0.09364181],\n",
              "       [0.09566833],\n",
              "       [0.09587942],\n",
              "       [0.09942582],\n",
              "       [0.10014354],\n",
              "       [0.10854513],\n",
              "       [0.10960061],\n",
              "       [0.11399139],\n",
              "       [0.1124715 ],\n",
              "       [0.11521574],\n",
              "       [0.11487799],\n",
              "       [0.11454023],\n",
              "       [0.11306257],\n",
              "       [0.11280925],\n",
              "       [0.11086718],\n",
              "       [0.11530018],\n",
              "       [0.11783332],\n",
              "       [0.10660306],\n",
              "       [0.10191674],\n",
              "       [0.0987081 ],\n",
              "       [0.09794816],\n",
              "       [0.08929325],\n",
              "       [0.08971544],\n",
              "       [0.08228489],\n",
              "       [0.07810521],\n",
              "       [0.0847336 ],\n",
              "       [0.08747784],\n",
              "       [0.08671789],\n",
              "       [0.07367221],\n",
              "       [0.07637423],\n",
              "       [0.06489065],\n",
              "       [0.07080132],\n",
              "       [0.0829604 ],\n",
              "       [0.08279152],\n",
              "       [0.08325593],\n",
              "       [0.09030651],\n",
              "       [0.09060204],\n",
              "       [0.08819556],\n",
              "       [0.09055982],\n",
              "       [0.08963101],\n",
              "       [0.0891666 ],\n",
              "       [0.08519801],\n",
              "       [0.08084945],\n",
              "       [0.08258043],\n",
              "       [0.07924512],\n",
              "       [0.08279152],\n",
              "       [0.08735118],\n",
              "       [0.09195305],\n",
              "       [0.09967914],\n",
              "       [0.0969349 ],\n",
              "       [0.1049143 ],\n",
              "       [0.1049143 ],\n",
              "       [0.10757409],\n",
              "       [0.10820738],\n",
              "       [0.11103606],\n",
              "       [0.11234485],\n",
              "       [0.11280925],\n",
              "       [0.10955839],\n",
              "       [0.11052943],\n",
              "       [0.11365364],\n",
              "       [0.11154268],\n",
              "       [0.11141603],\n",
              "       [0.10757409],\n",
              "       [0.10896732],\n",
              "       [0.10841848],\n",
              "       [0.1109094 ],\n",
              "       [0.11639787],\n",
              "       [0.12095753],\n",
              "       [0.12146416],\n",
              "       [0.12416617],\n",
              "       [0.12205522],\n",
              "       [0.12116862],\n",
              "       [0.12522165],\n",
              "       [0.12517943],\n",
              "       [0.12429283],\n",
              "       [0.12522165],\n",
              "       [0.1255594 ],\n",
              "       [0.12509499],\n",
              "       [0.13315883],\n",
              "       [0.13341214],\n",
              "       [0.13345436],\n",
              "       [0.13210335],\n",
              "       [0.13092122],\n",
              "       [0.1621633 ],\n",
              "       [0.16123448],\n",
              "       [0.16355653],\n",
              "       [0.16866503],\n",
              "       [0.17390019],\n",
              "       [0.17605336],\n",
              "       [0.17765769],\n",
              "       [0.17639112],\n",
              "       [0.18133074],\n",
              "       [0.18863464],\n",
              "       [0.19070337],\n",
              "       [0.19000676],\n",
              "       [0.19158997],\n",
              "       [0.19572743],\n",
              "       [0.19745841],\n",
              "       [0.19500971],\n",
              "       [0.19555856],\n",
              "       [0.19669847],\n",
              "       [0.19695179],\n",
              "       [0.20877311],\n",
              "       [0.20526894],\n",
              "       [0.2087309 ],\n",
              "       [0.20687326],\n",
              "       [0.2076332 ],\n",
              "       [0.20543781],\n",
              "       [0.2040868 ],\n",
              "       [0.20602888],\n",
              "       [0.20628219],\n",
              "       [0.20539559],\n",
              "       [0.21160179],\n",
              "       [0.21257283],\n",
              "       [0.2096175 ],\n",
              "       [0.21582369],\n",
              "       [0.20898421],\n",
              "       [0.21565482],\n",
              "       [0.21354387],\n",
              "       [0.21236173],\n",
              "       [0.21337499],\n",
              "       [0.22570295],\n",
              "       [0.22705396],\n",
              "       [0.22625179],\n",
              "       [0.22511188],\n",
              "       [0.22528076],\n",
              "       [0.22979819],\n",
              "       [0.22663177],\n",
              "       [0.22511188],\n",
              "       [0.22376087],\n",
              "       [0.22304315],\n",
              "       [0.21654142],\n",
              "       [0.21725914],\n",
              "       [0.21409271],\n",
              "       [0.2173858 ],\n",
              "       [0.214726  ],\n",
              "       [0.21253061],\n",
              "       [0.21996116],\n",
              "       [0.21924343],\n",
              "       [0.22502744],\n",
              "       [0.22878494],\n",
              "       [0.22519632],\n",
              "       [0.22566073],\n",
              "       [0.22506966],\n",
              "       [0.23743984],\n",
              "       [0.24136621],\n",
              "       [0.23946635],\n",
              "       [0.23722874],\n",
              "       [0.24748797],\n",
              "       [0.26458668],\n",
              "       [0.26872414],\n",
              "       [0.26564215],\n",
              "       [0.26855526],\n",
              "       [0.27763236],\n",
              "       [0.2759436 ],\n",
              "       [0.27497256],\n",
              "       [0.25293422],\n",
              "       [0.26260238],\n",
              "       [0.26479777],\n",
              "       [0.26872414],\n",
              "       [0.26792198],\n",
              "       [0.2659799 ],\n",
              "       [0.26821751],\n",
              "       [0.26711982],\n",
              "       [0.26737313],\n",
              "       [0.2635312 ],\n",
              "       [0.2653044 ],\n",
              "       [0.27488812],\n",
              "       [0.26847083],\n",
              "       [0.27066622],\n",
              "       [0.27455037],\n",
              "       [0.27294604],\n",
              "       [0.24757241],\n",
              "       [0.23254243],\n",
              "       [0.23748206],\n",
              "       [0.23144474],\n",
              "       [0.22777168],\n",
              "       [0.21924343],\n",
              "       [0.23642658],\n",
              "       [0.23081145],\n",
              "       [0.23444229],\n",
              "       [0.23342903],\n",
              "       [0.23617327],\n",
              "       [0.23423119],\n",
              "       [0.22540741],\n",
              "       [0.23427341],\n",
              "       [0.22519632],\n",
              "       [0.22663177],\n",
              "       [0.22443638],\n",
              "       [0.2269273 ],\n",
              "       [0.22118551],\n",
              "       [0.22730727],\n",
              "       [0.23102254],\n",
              "       [0.23300684],\n",
              "       [0.23389344],\n",
              "       [0.2424639 ],\n",
              "       [0.24782572],\n",
              "       [0.25002111],\n",
              "       [0.2522165 ],\n",
              "       [0.25618509],\n",
              "       [0.25331419],\n",
              "       [0.25301866],\n",
              "       [0.26070252],\n",
              "       [0.26344676],\n",
              "       [0.26648653],\n",
              "       [0.25424301],\n",
              "       [0.2497678 ],\n",
              "       [0.24651693],\n",
              "       [0.25208984],\n",
              "       [0.28202314],\n",
              "       [0.27539475],\n",
              "       [0.27885671],\n",
              "       [0.28907371],\n",
              "       [0.29443553],\n",
              "       [0.298573  ],\n",
              "       [0.27433927],\n",
              "       [0.28345858],\n",
              "       [0.29346449],\n",
              "       [0.30085282],\n",
              "       [0.29810859],\n",
              "       [0.28506291],\n",
              "       [0.28354302],\n",
              "       [0.28231867],\n",
              "       [0.29316896],\n",
              "       [0.29401334],\n",
              "       [0.29101579],\n",
              "       [0.29350671],\n",
              "       [0.30030398],\n",
              "       [0.30638352],\n",
              "       [0.30824116],\n",
              "       [0.31098539],\n",
              "       [0.31119649],\n",
              "       [0.30287934],\n",
              "       [0.30216161],\n",
              "       [0.29941738],\n",
              "       [0.28831377],\n",
              "       [0.30043063],\n",
              "       [0.29772862],\n",
              "       [0.29262011],\n",
              "       [0.28683611],\n",
              "       [0.29359115],\n",
              "       [0.28848265],\n",
              "       [0.28873596],\n",
              "       [0.2775057 ],\n",
              "       [0.266191  ],\n",
              "       [0.25985814],\n",
              "       [0.25420079],\n",
              "       [0.26513552],\n",
              "       [0.2697374 ],\n",
              "       [0.26572659],\n",
              "       [0.26927299],\n",
              "       [0.2679642 ],\n",
              "       [0.27079287],\n",
              "       [0.26657097],\n",
              "       [0.27463481],\n",
              "       [0.27425483],\n",
              "       [0.27653466],\n",
              "       [0.27678798],\n",
              "       [0.27953221],\n",
              "       [0.27721017],\n",
              "       [0.28138985],\n",
              "       [0.29359115],\n",
              "       [0.29608207],\n",
              "       [0.29308452],\n",
              "       [0.27712573],\n",
              "       [0.27826564],\n",
              "       [0.27792789],\n",
              "       [0.28185426],\n",
              "       [0.27894115],\n",
              "       [0.28316305],\n",
              "       [0.30697458],\n",
              "       [0.32246897],\n",
              "       [0.33226378],\n",
              "       [0.32318669],\n",
              "       [0.32833741],\n",
              "       [0.34687157],\n",
              "       [0.3542599 ],\n",
              "       [0.35662417],\n",
              "       [0.36266149],\n",
              "       [0.3611416 ],\n",
              "       [0.3560331 ],\n",
              "       [0.35307777],\n",
              "       [0.34197416],\n",
              "       [0.33243266],\n",
              "       [0.34096091],\n",
              "       [0.3369501 ],\n",
              "       [0.33623237],\n",
              "       [0.34957359],\n",
              "       [0.35725745],\n",
              "       [0.35729967],\n",
              "       [0.3535844 ],\n",
              "       [0.34927805],\n",
              "       [0.33412142],\n",
              "       [0.34412733],\n",
              "       [0.34074981],\n",
              "       [0.33547243],\n",
              "       [0.33479693],\n",
              "       [0.33213713],\n",
              "       [0.33344592],\n",
              "       [0.33365701],\n",
              "       [0.34758929],\n",
              "       [0.34349405],\n",
              "       [0.34590053],\n",
              "       [0.34568944],\n",
              "       [0.35307777],\n",
              "       [0.36342143],\n",
              "       [0.35548425],\n",
              "       [0.35468209],\n",
              "       [0.35746855],\n",
              "       [0.35746855],\n",
              "       [0.3387233 ],\n",
              "       [0.33884995],\n",
              "       [0.34087647],\n",
              "       [0.33306595],\n",
              "       [0.34585831],\n",
              "       [0.34573166],\n",
              "       [0.34910918],\n",
              "       [0.35742633],\n",
              "       [0.35468209],\n",
              "       [0.35459765],\n",
              "       [0.35442878],\n",
              "       [0.35860846],\n",
              "       [0.36625011],\n",
              "       [0.36245039],\n",
              "       [0.37473613],\n",
              "       [0.37541164],\n",
              "       [0.37203411],\n",
              "       [0.36587013],\n",
              "       [0.36603901],\n",
              "       [0.35413324],\n",
              "       [0.34100312],\n",
              "       [0.34269189],\n",
              "       [0.32770413],\n",
              "       [0.32352444],\n",
              "       [0.32546652],\n",
              "       [0.32694419],\n",
              "       [0.29620873],\n",
              "       [0.2792789 ],\n",
              "       [0.30689015],\n",
              "       [0.2921557 ],\n",
              "       [0.27362155],\n",
              "       [0.27894115],\n",
              "       [0.30553914],\n",
              "       [0.31242084],\n",
              "       [0.32521321],\n",
              "       [0.3489403 ],\n",
              "       [0.34657604],\n",
              "       [0.34412733],\n",
              "       [0.34083425],\n",
              "       [0.34687157],\n",
              "       [0.35953728],\n",
              "       [0.37418728],\n",
              "       [0.37173858],\n",
              "       [0.37059867],\n",
              "       [0.35742633],\n",
              "       [0.36253483],\n",
              "       [0.36511019],\n",
              "       [0.36447691],\n",
              "       [0.35755298],\n",
              "       [0.36561682],\n",
              "       [0.37845141],\n",
              "       [0.38579752],\n",
              "       [0.37840919],\n",
              "       [0.37194967],\n",
              "       [0.37283627],\n",
              "       [0.37017648],\n",
              "       [0.3586929 ],\n",
              "       [0.35843958],\n",
              "       [0.34167863],\n",
              "       [0.33146162],\n",
              "       [0.31495398],\n",
              "       [0.34801148],\n",
              "       [0.32930845],\n",
              "       [0.32145571],\n",
              "       [0.32694419],\n",
              "       [0.32230009],\n",
              "       [0.32951955],\n",
              "       [0.34311408],\n",
              "       [0.34813814],\n",
              "       [0.32947733],\n",
              "       [0.33652791],\n",
              "       [0.350038  ],\n",
              "       [0.34661826],\n",
              "       [0.35379549],\n",
              "       [0.35628641],\n",
              "       [0.36088829],\n",
              "       [0.37110529],\n",
              "       [0.36941653],\n",
              "       [0.34813814],\n",
              "       [0.31824707],\n",
              "       [0.31622055],\n",
              "       [0.30651017],\n",
              "       [0.30950773],\n",
              "       [0.31191421],\n",
              "       [0.30389259],\n",
              "       [0.31630499],\n",
              "       [0.3325171 ],\n",
              "       [0.36405472],\n",
              "       [0.36540572],\n",
              "       [0.39470573],\n",
              "       [0.40032086],\n",
              "       [0.40407836],\n",
              "       [0.40960905],\n",
              "       [0.42092375],\n",
              "       [0.41480199],\n",
              "       [0.41294436],\n",
              "       [0.4057249 ],\n",
              "       [0.41307101],\n",
              "       [0.40804695],\n",
              "       [0.40517605],\n",
              "       [0.41074897],\n",
              "       [0.40876467],\n",
              "       [0.41383095],\n",
              "       [0.41294436],\n",
              "       [0.41475977],\n",
              "       [0.41188888],\n",
              "       [0.41020012],\n",
              "       [0.40754032],\n",
              "       [0.42176813],\n",
              "       [0.42848096],\n",
              "       [0.43472938],\n",
              "       [0.43755805],\n",
              "       [0.43536266],\n",
              "       [0.42793211],\n",
              "       [0.42594782],\n",
              "       [0.43038082],\n",
              "       [0.42371021],\n",
              "       [0.4241324 ],\n",
              "       [0.41585747],\n",
              "       [0.41543528],\n",
              "       [0.40255847],\n",
              "       [0.40597821],\n",
              "       [0.40158744],\n",
              "       [0.39930761],\n",
              "       [0.38769737],\n",
              "       [0.39723888],\n",
              "       [0.39609896],\n",
              "       [0.40175631],\n",
              "       [0.40010977],\n",
              "       [0.40884911],\n",
              "       [0.3950857 ],\n",
              "       [0.40133412],\n",
              "       [0.41218441],\n",
              "       [0.42320358],\n",
              "       [0.42223254],\n",
              "       [0.41180444],\n",
              "       [0.42510344],\n",
              "       [0.42637001],\n",
              "       [0.42459681],\n",
              "       [0.42687664],\n",
              "       [0.42244364],\n",
              "       [0.42869205],\n",
              "       [0.42683442],\n",
              "       [0.42755214],\n",
              "       [0.43342059],\n",
              "       [0.44110445],\n",
              "       [0.43852909],\n",
              "       [0.42489234],\n",
              "       [0.42037491],\n",
              "       [0.42197923],\n",
              "       [0.46930676],\n",
              "       [0.49417377],\n",
              "       [0.49670692],\n",
              "       [0.50126657],\n",
              "       [0.49299164],\n",
              "       [0.49358271],\n",
              "       [0.50046441],\n",
              "       [0.49476484],\n",
              "       [0.50042219],\n",
              "       [0.50413747],\n",
              "       [0.5062062 ],\n",
              "       [0.51920966],\n",
              "       [0.53719497],\n",
              "       [0.52824453],\n",
              "       [0.52647133]])"
            ]
          },
          "metadata": {
            "tags": []
          },
          "execution_count": 16
        }
      ]
    },
    {
      "cell_type": "code",
      "metadata": {
        "id": "7xvGYsy82JJD"
      },
      "source": [
        "import numpy\n",
        "# convert an array of values into a dataset matrix\n",
        "def create_dataset(dataset, time_step=1):\n",
        "\tdataX, dataY = [], []\n",
        "\tfor i in range(len(dataset)-time_step-1):\n",
        "\t\ta = dataset[i:(i+time_step), 0]   ###i=0, 0,1,2,3-----99   100 \n",
        "\t\tdataX.append(a)\n",
        "\t\tdataY.append(dataset[i + time_step, 0])\n",
        "\treturn numpy.array(dataX), numpy.array(dataY)"
      ],
      "execution_count": 17,
      "outputs": []
    },
    {
      "cell_type": "code",
      "metadata": {
        "id": "XBxB3pd42JJE"
      },
      "source": [
        "# reshape into X=t,t+1,t+2,t+3 and Y=t+4\n",
        "time_step = 100\n",
        "X_train, y_train = create_dataset(train_data, time_step)\n",
        "X_test, ytest = create_dataset(test_data, time_step)"
      ],
      "execution_count": 18,
      "outputs": []
    },
    {
      "cell_type": "code",
      "metadata": {
        "colab": {
          "base_uri": "https://localhost:8080/"
        },
        "id": "NIzKSUvT2JJE",
        "outputId": "82f6ed13-9ba1-405e-b41f-5f3d7ecb7582"
      },
      "source": [
        "print(X_train.shape), print(y_train.shape)"
      ],
      "execution_count": 19,
      "outputs": [
        {
          "output_type": "stream",
          "text": [
            "(716, 100)\n",
            "(716,)\n"
          ],
          "name": "stdout"
        },
        {
          "output_type": "execute_result",
          "data": {
            "text/plain": [
              "(None, None)"
            ]
          },
          "metadata": {
            "tags": []
          },
          "execution_count": 19
        }
      ]
    },
    {
      "cell_type": "code",
      "metadata": {
        "colab": {
          "base_uri": "https://localhost:8080/"
        },
        "id": "GaAsHVKY2JJF",
        "outputId": "f2e4072e-ff2f-4a36-9167-f254fd53b47a"
      },
      "source": [
        "print(X_test.shape), print(ytest.shape)"
      ],
      "execution_count": 20,
      "outputs": [
        {
          "output_type": "stream",
          "text": [
            "(340, 100)\n",
            "(340,)\n"
          ],
          "name": "stdout"
        },
        {
          "output_type": "execute_result",
          "data": {
            "text/plain": [
              "(None, None)"
            ]
          },
          "metadata": {
            "tags": []
          },
          "execution_count": 20
        }
      ]
    },
    {
      "cell_type": "code",
      "metadata": {
        "id": "4qKNtEF62JJG"
      },
      "source": [
        "# reshape input to be [samples, time steps, features] which is required for LSTM\n",
        "X_train =X_train.reshape(X_train.shape[0],X_train.shape[1] , 1)\n",
        "X_test = X_test.reshape(X_test.shape[0],X_test.shape[1] , 1)"
      ],
      "execution_count": 21,
      "outputs": []
    },
    {
      "cell_type": "code",
      "metadata": {
        "id": "5OH86Ilh2JJH"
      },
      "source": [
        "### Create the Stacked LSTM model\n",
        "from tensorflow.keras.models import Sequential\n",
        "from tensorflow.keras.layers import Dense\n",
        "from tensorflow.keras.layers import LSTM"
      ],
      "execution_count": 25,
      "outputs": []
    },
    {
      "cell_type": "code",
      "metadata": {
        "id": "qNKwmGKq2JJM"
      },
      "source": [
        "### Create the Stacked LSTM model\n",
        "from tensorflow.keras.models import Sequential\n",
        "from tensorflow.keras.layers import Dense\n",
        "from tensorflow.keras.layers import LSTM"
      ],
      "execution_count": 26,
      "outputs": []
    },
    {
      "cell_type": "code",
      "metadata": {
        "id": "iS36ZBM82JJN"
      },
      "source": [
        "model=Sequential()\r\n",
        "model.add(LSTM(50,return_sequences=True,input_shape=(100,1)))\r\n",
        "model.add(LSTM(50,return_sequences=True))\r\n",
        "model.add(LSTM(50))\r\n",
        "model.add(Dense(1))\r\n",
        "model.compile(loss='mean_squared_error',optimizer='adam')"
      ],
      "execution_count": 28,
      "outputs": []
    },
    {
      "cell_type": "code",
      "metadata": {
        "colab": {
          "base_uri": "https://localhost:8080/"
        },
        "id": "vvounOpz2p4K",
        "outputId": "000e3631-3897-415c-861e-86e72a50535a"
      },
      "source": [
        "model.summary()"
      ],
      "execution_count": 29,
      "outputs": [
        {
          "output_type": "stream",
          "text": [
            "Model: \"sequential_2\"\n",
            "_________________________________________________________________\n",
            "Layer (type)                 Output Shape              Param #   \n",
            "=================================================================\n",
            "lstm (LSTM)                  (None, 100, 50)           10400     \n",
            "_________________________________________________________________\n",
            "lstm_1 (LSTM)                (None, 100, 50)           20200     \n",
            "_________________________________________________________________\n",
            "lstm_2 (LSTM)                (None, 50)                20200     \n",
            "_________________________________________________________________\n",
            "dense (Dense)                (None, 1)                 51        \n",
            "=================================================================\n",
            "Total params: 50,851\n",
            "Trainable params: 50,851\n",
            "Non-trainable params: 0\n",
            "_________________________________________________________________\n"
          ],
          "name": "stdout"
        }
      ]
    },
    {
      "cell_type": "code",
      "metadata": {
        "colab": {
          "base_uri": "https://localhost:8080/"
        },
        "id": "Q7rbdMZV22ZJ",
        "outputId": "fd9c67a2-4798-4e85-c7fd-d0cd5c10b8bb"
      },
      "source": [
        "model.summary()"
      ],
      "execution_count": 30,
      "outputs": [
        {
          "output_type": "stream",
          "text": [
            "Model: \"sequential_2\"\n",
            "_________________________________________________________________\n",
            "Layer (type)                 Output Shape              Param #   \n",
            "=================================================================\n",
            "lstm (LSTM)                  (None, 100, 50)           10400     \n",
            "_________________________________________________________________\n",
            "lstm_1 (LSTM)                (None, 100, 50)           20200     \n",
            "_________________________________________________________________\n",
            "lstm_2 (LSTM)                (None, 50)                20200     \n",
            "_________________________________________________________________\n",
            "dense (Dense)                (None, 1)                 51        \n",
            "=================================================================\n",
            "Total params: 50,851\n",
            "Trainable params: 50,851\n",
            "Non-trainable params: 0\n",
            "_________________________________________________________________\n"
          ],
          "name": "stdout"
        }
      ]
    },
    {
      "cell_type": "code",
      "metadata": {
        "colab": {
          "base_uri": "https://localhost:8080/"
        },
        "id": "Xqo4p32Z27ak",
        "outputId": "65476246-685e-4105-afea-b293527475bc"
      },
      "source": [
        "model.fit(X_train,y_train,validation_data=(X_test,ytest),epochs=100,batch_size=64,verbose=1)"
      ],
      "execution_count": 31,
      "outputs": [
        {
          "output_type": "stream",
          "text": [
            "Epoch 1/100\n",
            "12/12 [==============================] - 7s 242ms/step - loss: 0.0340 - val_loss: 0.0648\n",
            "Epoch 2/100\n",
            "12/12 [==============================] - 2s 179ms/step - loss: 0.0051 - val_loss: 0.0042\n",
            "Epoch 3/100\n",
            "12/12 [==============================] - 2s 166ms/step - loss: 0.0014 - val_loss: 0.0049\n",
            "Epoch 4/100\n",
            "12/12 [==============================] - 2s 168ms/step - loss: 8.3019e-04 - val_loss: 0.0050\n",
            "Epoch 5/100\n",
            "12/12 [==============================] - 2s 167ms/step - loss: 6.5781e-04 - val_loss: 0.0061\n",
            "Epoch 6/100\n",
            "12/12 [==============================] - 2s 166ms/step - loss: 6.6384e-04 - val_loss: 0.0042\n",
            "Epoch 7/100\n",
            "12/12 [==============================] - 2s 168ms/step - loss: 6.6899e-04 - val_loss: 0.0039\n",
            "Epoch 8/100\n",
            "12/12 [==============================] - 2s 170ms/step - loss: 6.6133e-04 - val_loss: 0.0042\n",
            "Epoch 9/100\n",
            "12/12 [==============================] - 2s 169ms/step - loss: 5.8630e-04 - val_loss: 0.0035\n",
            "Epoch 10/100\n",
            "12/12 [==============================] - 2s 175ms/step - loss: 6.0320e-04 - val_loss: 0.0035\n",
            "Epoch 11/100\n",
            "12/12 [==============================] - 2s 178ms/step - loss: 5.9244e-04 - val_loss: 0.0038\n",
            "Epoch 12/100\n",
            "12/12 [==============================] - 2s 171ms/step - loss: 5.5675e-04 - val_loss: 0.0035\n",
            "Epoch 13/100\n",
            "12/12 [==============================] - 2s 173ms/step - loss: 5.4460e-04 - val_loss: 0.0037\n",
            "Epoch 14/100\n",
            "12/12 [==============================] - 2s 171ms/step - loss: 5.9529e-04 - val_loss: 0.0032\n",
            "Epoch 15/100\n",
            "12/12 [==============================] - 2s 171ms/step - loss: 5.3761e-04 - val_loss: 0.0031\n",
            "Epoch 16/100\n",
            "12/12 [==============================] - 2s 171ms/step - loss: 5.5804e-04 - val_loss: 0.0030\n",
            "Epoch 17/100\n",
            "12/12 [==============================] - 2s 171ms/step - loss: 5.2019e-04 - val_loss: 0.0029\n",
            "Epoch 18/100\n",
            "12/12 [==============================] - 2s 173ms/step - loss: 4.7354e-04 - val_loss: 0.0030\n",
            "Epoch 19/100\n",
            "12/12 [==============================] - 2s 172ms/step - loss: 5.4775e-04 - val_loss: 0.0027\n",
            "Epoch 20/100\n",
            "12/12 [==============================] - 2s 169ms/step - loss: 4.8160e-04 - val_loss: 0.0028\n",
            "Epoch 21/100\n",
            "12/12 [==============================] - 2s 169ms/step - loss: 5.2322e-04 - val_loss: 0.0025\n",
            "Epoch 22/100\n",
            "12/12 [==============================] - 2s 172ms/step - loss: 5.4435e-04 - val_loss: 0.0025\n",
            "Epoch 23/100\n",
            "12/12 [==============================] - 2s 172ms/step - loss: 4.9980e-04 - val_loss: 0.0025\n",
            "Epoch 24/100\n",
            "12/12 [==============================] - 2s 172ms/step - loss: 5.1920e-04 - val_loss: 0.0024\n",
            "Epoch 25/100\n",
            "12/12 [==============================] - 2s 169ms/step - loss: 4.5897e-04 - val_loss: 0.0026\n",
            "Epoch 26/100\n",
            "12/12 [==============================] - 2s 171ms/step - loss: 5.0442e-04 - val_loss: 0.0021\n",
            "Epoch 27/100\n",
            "12/12 [==============================] - 2s 168ms/step - loss: 4.0998e-04 - val_loss: 0.0026\n",
            "Epoch 28/100\n",
            "12/12 [==============================] - 2s 172ms/step - loss: 4.6266e-04 - val_loss: 0.0020\n",
            "Epoch 29/100\n",
            "12/12 [==============================] - 2s 171ms/step - loss: 4.2986e-04 - val_loss: 0.0019\n",
            "Epoch 30/100\n",
            "12/12 [==============================] - 2s 171ms/step - loss: 4.0449e-04 - val_loss: 0.0021\n",
            "Epoch 31/100\n",
            "12/12 [==============================] - 2s 170ms/step - loss: 4.1385e-04 - val_loss: 0.0026\n",
            "Epoch 32/100\n",
            "12/12 [==============================] - 2s 169ms/step - loss: 4.8678e-04 - val_loss: 0.0021\n",
            "Epoch 33/100\n",
            "12/12 [==============================] - 2s 172ms/step - loss: 4.0216e-04 - val_loss: 0.0017\n",
            "Epoch 34/100\n",
            "12/12 [==============================] - 2s 171ms/step - loss: 3.9553e-04 - val_loss: 0.0018\n",
            "Epoch 35/100\n",
            "12/12 [==============================] - 2s 171ms/step - loss: 4.1146e-04 - val_loss: 0.0018\n",
            "Epoch 36/100\n",
            "12/12 [==============================] - 2s 170ms/step - loss: 3.9341e-04 - val_loss: 0.0017\n",
            "Epoch 37/100\n",
            "12/12 [==============================] - 2s 171ms/step - loss: 3.9032e-04 - val_loss: 0.0018\n",
            "Epoch 38/100\n",
            "12/12 [==============================] - 2s 172ms/step - loss: 4.1677e-04 - val_loss: 0.0015\n",
            "Epoch 39/100\n",
            "12/12 [==============================] - 2s 172ms/step - loss: 3.7337e-04 - val_loss: 0.0014\n",
            "Epoch 40/100\n",
            "12/12 [==============================] - 2s 173ms/step - loss: 4.2302e-04 - val_loss: 0.0018\n",
            "Epoch 41/100\n",
            "12/12 [==============================] - 2s 174ms/step - loss: 3.5368e-04 - val_loss: 0.0014\n",
            "Epoch 42/100\n",
            "12/12 [==============================] - 2s 172ms/step - loss: 3.5691e-04 - val_loss: 0.0022\n",
            "Epoch 43/100\n",
            "12/12 [==============================] - 2s 173ms/step - loss: 4.0024e-04 - val_loss: 0.0016\n",
            "Epoch 44/100\n",
            "12/12 [==============================] - 2s 172ms/step - loss: 3.3392e-04 - val_loss: 0.0023\n",
            "Epoch 45/100\n",
            "12/12 [==============================] - 2s 171ms/step - loss: 3.9955e-04 - val_loss: 0.0014\n",
            "Epoch 46/100\n",
            "12/12 [==============================] - 2s 171ms/step - loss: 3.4751e-04 - val_loss: 0.0018\n",
            "Epoch 47/100\n",
            "12/12 [==============================] - 2s 169ms/step - loss: 2.9948e-04 - val_loss: 0.0014\n",
            "Epoch 48/100\n",
            "12/12 [==============================] - 2s 172ms/step - loss: 3.0609e-04 - val_loss: 0.0016\n",
            "Epoch 49/100\n",
            "12/12 [==============================] - 2s 170ms/step - loss: 3.2094e-04 - val_loss: 0.0013\n",
            "Epoch 50/100\n",
            "12/12 [==============================] - 2s 172ms/step - loss: 3.2265e-04 - val_loss: 0.0021\n",
            "Epoch 51/100\n",
            "12/12 [==============================] - 2s 172ms/step - loss: 3.3529e-04 - val_loss: 0.0013\n",
            "Epoch 52/100\n",
            "12/12 [==============================] - 2s 174ms/step - loss: 2.7480e-04 - val_loss: 0.0018\n",
            "Epoch 53/100\n",
            "12/12 [==============================] - 2s 173ms/step - loss: 2.8761e-04 - val_loss: 0.0013\n",
            "Epoch 54/100\n",
            "12/12 [==============================] - 2s 173ms/step - loss: 2.9219e-04 - val_loss: 0.0017\n",
            "Epoch 55/100\n",
            "12/12 [==============================] - 2s 173ms/step - loss: 2.7187e-04 - val_loss: 0.0014\n",
            "Epoch 56/100\n",
            "12/12 [==============================] - 2s 180ms/step - loss: 2.7465e-04 - val_loss: 0.0013\n",
            "Epoch 57/100\n",
            "12/12 [==============================] - 2s 170ms/step - loss: 3.3995e-04 - val_loss: 0.0023\n",
            "Epoch 58/100\n",
            "12/12 [==============================] - 2s 170ms/step - loss: 3.2421e-04 - val_loss: 0.0015\n",
            "Epoch 59/100\n",
            "12/12 [==============================] - 2s 169ms/step - loss: 3.5701e-04 - val_loss: 0.0013\n",
            "Epoch 60/100\n",
            "12/12 [==============================] - 2s 170ms/step - loss: 2.7236e-04 - val_loss: 0.0020\n",
            "Epoch 61/100\n",
            "12/12 [==============================] - 2s 171ms/step - loss: 2.6764e-04 - val_loss: 0.0016\n",
            "Epoch 62/100\n",
            "12/12 [==============================] - 2s 168ms/step - loss: 3.3039e-04 - val_loss: 0.0032\n",
            "Epoch 63/100\n",
            "12/12 [==============================] - 2s 172ms/step - loss: 3.4051e-04 - val_loss: 0.0019\n",
            "Epoch 64/100\n",
            "12/12 [==============================] - 2s 170ms/step - loss: 3.8471e-04 - val_loss: 0.0025\n",
            "Epoch 65/100\n",
            "12/12 [==============================] - 2s 169ms/step - loss: 2.4850e-04 - val_loss: 0.0012\n",
            "Epoch 66/100\n",
            "12/12 [==============================] - 2s 170ms/step - loss: 2.1718e-04 - val_loss: 0.0020\n",
            "Epoch 67/100\n",
            "12/12 [==============================] - 2s 171ms/step - loss: 2.4029e-04 - val_loss: 0.0013\n",
            "Epoch 68/100\n",
            "12/12 [==============================] - 2s 171ms/step - loss: 2.3589e-04 - val_loss: 0.0012\n",
            "Epoch 69/100\n",
            "12/12 [==============================] - 2s 169ms/step - loss: 2.1738e-04 - val_loss: 0.0012\n",
            "Epoch 70/100\n",
            "12/12 [==============================] - 2s 173ms/step - loss: 2.1985e-04 - val_loss: 0.0012\n",
            "Epoch 71/100\n",
            "12/12 [==============================] - 2s 171ms/step - loss: 2.3538e-04 - val_loss: 0.0017\n",
            "Epoch 72/100\n",
            "12/12 [==============================] - 2s 171ms/step - loss: 2.0550e-04 - val_loss: 0.0011\n",
            "Epoch 73/100\n",
            "12/12 [==============================] - 2s 172ms/step - loss: 2.2911e-04 - val_loss: 0.0011\n",
            "Epoch 74/100\n",
            "12/12 [==============================] - 2s 169ms/step - loss: 2.1843e-04 - val_loss: 0.0010\n",
            "Epoch 75/100\n",
            "12/12 [==============================] - 2s 171ms/step - loss: 2.1525e-04 - val_loss: 0.0012\n",
            "Epoch 76/100\n",
            "12/12 [==============================] - 2s 170ms/step - loss: 1.6816e-04 - val_loss: 0.0011\n",
            "Epoch 77/100\n",
            "12/12 [==============================] - 2s 170ms/step - loss: 2.5133e-04 - val_loss: 0.0011\n",
            "Epoch 78/100\n",
            "12/12 [==============================] - 2s 171ms/step - loss: 1.9752e-04 - val_loss: 0.0012\n",
            "Epoch 79/100\n",
            "12/12 [==============================] - 2s 173ms/step - loss: 2.0743e-04 - val_loss: 0.0010\n",
            "Epoch 80/100\n",
            "12/12 [==============================] - 2s 171ms/step - loss: 1.9212e-04 - val_loss: 0.0011\n",
            "Epoch 81/100\n",
            "12/12 [==============================] - 2s 169ms/step - loss: 1.8823e-04 - val_loss: 0.0011\n",
            "Epoch 82/100\n",
            "12/12 [==============================] - 2s 173ms/step - loss: 1.9127e-04 - val_loss: 0.0011\n",
            "Epoch 83/100\n",
            "12/12 [==============================] - 2s 170ms/step - loss: 1.9643e-04 - val_loss: 0.0011\n",
            "Epoch 84/100\n",
            "12/12 [==============================] - 2s 170ms/step - loss: 2.0321e-04 - val_loss: 9.4837e-04\n",
            "Epoch 85/100\n",
            "12/12 [==============================] - 2s 172ms/step - loss: 1.6292e-04 - val_loss: 9.1755e-04\n",
            "Epoch 86/100\n",
            "12/12 [==============================] - 2s 169ms/step - loss: 1.6419e-04 - val_loss: 9.4480e-04\n",
            "Epoch 87/100\n",
            "12/12 [==============================] - 2s 172ms/step - loss: 1.6331e-04 - val_loss: 9.2389e-04\n",
            "Epoch 88/100\n",
            "12/12 [==============================] - 2s 170ms/step - loss: 1.4939e-04 - val_loss: 0.0010\n",
            "Epoch 89/100\n",
            "12/12 [==============================] - 2s 170ms/step - loss: 1.7667e-04 - val_loss: 0.0010\n",
            "Epoch 90/100\n",
            "12/12 [==============================] - 2s 170ms/step - loss: 1.8184e-04 - val_loss: 0.0012\n",
            "Epoch 91/100\n",
            "12/12 [==============================] - 2s 171ms/step - loss: 1.7413e-04 - val_loss: 9.8655e-04\n",
            "Epoch 92/100\n",
            "12/12 [==============================] - 2s 175ms/step - loss: 1.7915e-04 - val_loss: 0.0011\n",
            "Epoch 93/100\n",
            "12/12 [==============================] - 2s 174ms/step - loss: 1.9040e-04 - val_loss: 8.6486e-04\n",
            "Epoch 94/100\n",
            "12/12 [==============================] - 2s 173ms/step - loss: 1.4617e-04 - val_loss: 0.0016\n",
            "Epoch 95/100\n",
            "12/12 [==============================] - 2s 175ms/step - loss: 2.3211e-04 - val_loss: 0.0011\n",
            "Epoch 96/100\n",
            "12/12 [==============================] - 2s 173ms/step - loss: 1.6543e-04 - val_loss: 0.0011\n",
            "Epoch 97/100\n",
            "12/12 [==============================] - 2s 170ms/step - loss: 1.7542e-04 - val_loss: 8.7451e-04\n",
            "Epoch 98/100\n",
            "12/12 [==============================] - 2s 171ms/step - loss: 1.5349e-04 - val_loss: 0.0011\n",
            "Epoch 99/100\n",
            "12/12 [==============================] - 2s 170ms/step - loss: 1.7302e-04 - val_loss: 9.0500e-04\n",
            "Epoch 100/100\n",
            "12/12 [==============================] - 2s 171ms/step - loss: 1.5934e-04 - val_loss: 8.3976e-04\n"
          ],
          "name": "stdout"
        },
        {
          "output_type": "execute_result",
          "data": {
            "text/plain": [
              "<tensorflow.python.keras.callbacks.History at 0x7f8403cb9160>"
            ]
          },
          "metadata": {
            "tags": []
          },
          "execution_count": 31
        }
      ]
    },
    {
      "cell_type": "code",
      "metadata": {
        "id": "ZQ6g_p1x3CA2"
      },
      "source": [
        "import tensorflow as tf"
      ],
      "execution_count": 32,
      "outputs": []
    },
    {
      "cell_type": "code",
      "metadata": {
        "colab": {
          "base_uri": "https://localhost:8080/",
          "height": 35
        },
        "id": "NHTNYgad6_qW",
        "outputId": "09093a53-291f-4db7-a5af-72c0e1c2bae5"
      },
      "source": [
        "tf.__version__"
      ],
      "execution_count": 33,
      "outputs": [
        {
          "output_type": "execute_result",
          "data": {
            "application/vnd.google.colaboratory.intrinsic+json": {
              "type": "string"
            },
            "text/plain": [
              "'2.4.0'"
            ]
          },
          "metadata": {
            "tags": []
          },
          "execution_count": 33
        }
      ]
    },
    {
      "cell_type": "code",
      "metadata": {
        "id": "OvlRQTu57Bb6"
      },
      "source": [
        "### Lets Do the prediction and check performance metrics\r\n",
        "train_predict=model.predict(X_train)\r\n",
        "test_predict=model.predict(X_test)"
      ],
      "execution_count": 34,
      "outputs": []
    },
    {
      "cell_type": "code",
      "metadata": {
        "id": "bWwTjg8g7EAw"
      },
      "source": [
        "\r\n",
        "##Transformback to original form\r\n",
        "train_predict=scaler.inverse_transform(train_predict)\r\n",
        "test_predict=scaler.inverse_transform(test_predict)"
      ],
      "execution_count": 35,
      "outputs": []
    },
    {
      "cell_type": "code",
      "metadata": {
        "colab": {
          "base_uri": "https://localhost:8080/"
        },
        "id": "RvlURaPC7Goi",
        "outputId": "6755717e-2317-47ab-e922-c6ab30d5fe92"
      },
      "source": [
        "### Calculate RMSE performance metrics\r\n",
        "import math\r\n",
        "from sklearn.metrics import mean_squared_error\r\n",
        "math.sqrt(mean_squared_error(y_train,train_predict))"
      ],
      "execution_count": 36,
      "outputs": [
        {
          "output_type": "execute_result",
          "data": {
            "text/plain": [
              "141.52222621704553"
            ]
          },
          "metadata": {
            "tags": []
          },
          "execution_count": 36
        }
      ]
    },
    {
      "cell_type": "code",
      "metadata": {
        "colab": {
          "base_uri": "https://localhost:8080/"
        },
        "id": "8SOkLAD47JNI",
        "outputId": "4705b166-0c2f-41aa-d01a-45c75e9f815a"
      },
      "source": [
        "### Test Data RMSE\r\n",
        "math.sqrt(mean_squared_error(ytest,test_predict))"
      ],
      "execution_count": 37,
      "outputs": [
        {
          "output_type": "execute_result",
          "data": {
            "text/plain": [
              "238.16621816899018"
            ]
          },
          "metadata": {
            "tags": []
          },
          "execution_count": 37
        }
      ]
    },
    {
      "cell_type": "code",
      "metadata": {
        "colab": {
          "base_uri": "https://localhost:8080/",
          "height": 264
        },
        "id": "pZIdRedk7MsR",
        "outputId": "d10ab04b-81e8-4b96-b31c-e1b7a6e35058"
      },
      "source": [
        "### Plotting \r\n",
        "# shift train predictions for plotting\r\n",
        "look_back=100\r\n",
        "trainPredictPlot = numpy.empty_like(df1)\r\n",
        "trainPredictPlot[:, :] = np.nan\r\n",
        "trainPredictPlot[look_back:len(train_predict)+look_back, :] = train_predict\r\n",
        "# shift test predictions for plotting\r\n",
        "testPredictPlot = numpy.empty_like(df1)\r\n",
        "testPredictPlot[:, :] = numpy.nan\r\n",
        "testPredictPlot[len(train_predict)+(look_back*2)+1:len(df1)-1, :] = test_predict\r\n",
        "# plot baseline and predictions\r\n",
        "plt.plot(scaler.inverse_transform(df1))\r\n",
        "plt.plot(trainPredictPlot)\r\n",
        "plt.plot(testPredictPlot)\r\n",
        "plt.show()"
      ],
      "execution_count": 38,
      "outputs": [
        {
          "output_type": "display_data",
          "data": {
            "image/png": "[encoded data removed]",
            "text/plain": [
              "<Figure size 432x288 with 1 Axes>"
            ]
          },
          "metadata": {
            "tags": [],
            "needs_background": "light"
          }
        }
      ]
    },
    {
      "cell_type": "code",
      "metadata": {
        "colab": {
          "base_uri": "https://localhost:8080/"
        },
        "id": "VUW6yRtv7Pri",
        "outputId": "e4415c73-1738-40ce-95dc-01594c0410c3"
      },
      "source": [
        "len(test_data)"
      ],
      "execution_count": 39,
      "outputs": [
        {
          "output_type": "execute_result",
          "data": {
            "text/plain": [
              "441"
            ]
          },
          "metadata": {
            "tags": []
          },
          "execution_count": 39
        }
      ]
    },
    {
      "cell_type": "code",
      "metadata": {
        "colab": {
          "base_uri": "https://localhost:8080/"
        },
        "id": "UEyJgwHz7SpV",
        "outputId": "e089e2c7-d947-49f1-9c73-d2d3d83b6e08"
      },
      "source": [
        "x_input=test_data[341:].reshape(1,-1)\r\n",
        "x_input.shape"
      ],
      "execution_count": 40,
      "outputs": [
        {
          "output_type": "execute_result",
          "data": {
            "text/plain": [
              "(1, 100)"
            ]
          },
          "metadata": {
            "tags": []
          },
          "execution_count": 40
        }
      ]
    },
    {
      "cell_type": "code",
      "metadata": {
        "id": "q8OE9BdN7VmI"
      },
      "source": [
        "\r\n",
        "temp_input=list(x_input)\r\n",
        "temp_input=temp_input[0].tolist()"
      ],
      "execution_count": 41,
      "outputs": []
    },
    {
      "cell_type": "code",
      "metadata": {
        "colab": {
          "base_uri": "https://localhost:8080/"
        },
        "id": "OEyGjpcz7YE8",
        "outputId": "a0c0cda5-2638-41e8-e94a-54e3c22a274e"
      },
      "source": [
        "temp_input"
      ],
      "execution_count": 42,
      "outputs": [
        {
          "output_type": "execute_result",
          "data": {
            "text/plain": [
              "[0.8583551465000423,\n",
              " 0.8866418981676942,\n",
              " 0.8743139407244789,\n",
              " 0.8843198513890065,\n",
              " 0.8783669678290975,\n",
              " 0.8986321033521913,\n",
              " 0.925821160179009,\n",
              " 0.9287764924427933,\n",
              " 0.9567677108840666,\n",
              " 0.9386979650426415,\n",
              " 0.933040614709111,\n",
              " 0.9495060373216249,\n",
              " 0.9642404796082076,\n",
              " 0.9551211686228154,\n",
              " 0.9598919192772104,\n",
              " 0.9663514312251966,\n",
              " 0.9624672802499368,\n",
              " 0.9229502659799038,\n",
              " 0.9598497002448705,\n",
              " 0.9879253567508233,\n",
              " 0.985941062230854,\n",
              " 0.9253145317909315,\n",
              " 0.9217259140420504,\n",
              " 0.964747107996285,\n",
              " 0.9757240564046274,\n",
              " 0.9915984125643842,\n",
              " 0.9697289538123788,\n",
              " 0.9761462467280253,\n",
              " 0.9679557544541082,\n",
              " 1.0000000000000002,\n",
              " 0.9901629654648318,\n",
              " 0.9905007177235499,\n",
              " 0.9653803934813816,\n",
              " 0.9848855864223593,\n",
              " 0.9708688676855528,\n",
              " 0.9402600692392133,\n",
              " 0.8774803681499621,\n",
              " 0.8348391454867856,\n",
              " 0.8541332432660644,\n",
              " 0.7733682344000676,\n",
              " 0.7726927298826314,\n",
              " 0.8801401671873683,\n",
              " 0.8400743054969182,\n",
              " 0.8967322468969012,\n",
              " 0.8552731571392387,\n",
              " 0.8388499535590646,\n",
              " 0.7423372456303303,\n",
              " 0.8232711306256861,\n",
              " 0.7814320695769654,\n",
              " 0.6665963016127672,\n",
              " 0.7921557037912694,\n",
              " 0.6411804441442204,\n",
              " 0.6861437135860848,\n",
              " 0.6600101325677616,\n",
              " 0.6520307354555435,\n",
              " 0.5864223591995272,\n",
              " 0.5658616904500551,\n",
              " 0.660896732246897,\n",
              " 0.6551549438486872,\n",
              " 0.7097019336316812,\n",
              " 0.664527569028118,\n",
              " 0.6943764248923416,\n",
              " 0.692181035210673,\n",
              " 0.6356919699400492,\n",
              " 0.6526640209406402,\n",
              " 0.637802921557038,\n",
              " 0.7267162036646122,\n",
              " 0.7138816178333194,\n",
              " 0.7419150553069325,\n",
              " 0.7500211095161702,\n",
              " 0.7722283205268936,\n",
              " 0.8304905851557884,\n",
              " 0.8194291986827664,\n",
              " 0.8289706999915563,\n",
              " 0.8125474964113824,\n",
              " 0.7877649244279323,\n",
              " 0.7516254327450818,\n",
              " 0.7842607447437306,\n",
              " 0.7797433082833742,\n",
              " 0.8132652199611587,\n",
              " 0.8141096006079542,\n",
              " 0.7947310647639958,\n",
              " 0.8333614793548934,\n",
              " 0.8589884319851391,\n",
              " 0.8390188296884238,\n",
              " 0.8562864139153934,\n",
              " 0.8748627881448958,\n",
              " 0.887824031073208,\n",
              " 0.9009541501308793,\n",
              " 0.9279321117959978,\n",
              " 0.9485349995778098,\n",
              " 0.9333361479354896,\n",
              " 0.9174617917757326,\n",
              " 0.925441188887951,\n",
              " 0.9177151059697712,\n",
              " 0.9483239044161109,\n",
              " 0.9406400405302711,\n",
              " 0.9663514312251966,\n",
              " 0.9563033015283293,\n",
              " 0.964915984125644]"
            ]
          },
          "metadata": {
            "tags": []
          },
          "execution_count": 42
        }
      ]
    },
    {
      "cell_type": "code",
      "metadata": {
        "colab": {
          "base_uri": "https://localhost:8080/"
        },
        "id": "DOqQ2qck7aLI",
        "outputId": "77d801a6-7965-47a8-c783-9774eb3bb3c3"
      },
      "source": [
        "# demonstrate prediction for next 10 days\r\n",
        "from numpy import array\r\n",
        "\r\n",
        "lst_output=[]\r\n",
        "n_steps=100\r\n",
        "i=0\r\n",
        "while(i<30):\r\n",
        "    \r\n",
        "    if(len(temp_input)>100):\r\n",
        "        #print(temp_input)\r\n",
        "        x_input=np.array(temp_input[1:])\r\n",
        "        print(\"{} day input {}\".format(i,x_input))\r\n",
        "        x_input=x_input.reshape(1,-1)\r\n",
        "        x_input = x_input.reshape((1, n_steps, 1))\r\n",
        "        #print(x_input)\r\n",
        "        yhat = model.predict(x_input, verbose=0)\r\n",
        "        print(\"{} day output {}\".format(i,yhat))\r\n",
        "        temp_input.extend(yhat[0].tolist())\r\n",
        "        temp_input=temp_input[1:]\r\n",
        "        #print(temp_input)\r\n",
        "        lst_output.extend(yhat.tolist())\r\n",
        "        i=i+1\r\n",
        "    else:\r\n",
        "        x_input = x_input.reshape((1, n_steps,1))\r\n",
        "        yhat = model.predict(x_input, verbose=0)\r\n",
        "        print(yhat[0])\r\n",
        "        temp_input.extend(yhat[0].tolist())\r\n",
        "        print(len(temp_input))\r\n",
        "        lst_output.extend(yhat.tolist())\r\n",
        "        i=i+1\r\n",
        "    \r\n",
        "\r\n",
        "print(lst_output)"
      ],
      "execution_count": 43,
      "outputs": [
        {
          "output_type": "stream",
          "text": [
            "[0.95859385]\n",
            "101\n",
            "1 day input [0.8866419  0.87431394 0.88431985 0.87836697 0.8986321  0.92582116\n",
            " 0.92877649 0.95676771 0.93869797 0.93304061 0.94950604 0.96424048\n",
            " 0.95512117 0.95989192 0.96635143 0.96246728 0.92295027 0.9598497\n",
            " 0.98792536 0.98594106 0.92531453 0.92172591 0.96474711 0.97572406\n",
            " 0.99159841 0.96972895 0.97614625 0.96795575 1.         0.99016297\n",
            " 0.99050072 0.96538039 0.98488559 0.97086887 0.94026007 0.87748037\n",
            " 0.83483915 0.85413324 0.77336823 0.77269273 0.88014017 0.84007431\n",
            " 0.89673225 0.85527316 0.83884995 0.74233725 0.82327113 0.78143207\n",
            " 0.6665963  0.7921557  0.64118044 0.68614371 0.66001013 0.65203074\n",
            " 0.58642236 0.56586169 0.66089673 0.65515494 0.70970193 0.66452757\n",
            " 0.69437642 0.69218104 0.63569197 0.65266402 0.63780292 0.7267162\n",
            " 0.71388162 0.74191506 0.75002111 0.77222832 0.83049059 0.8194292\n",
            " 0.8289707  0.8125475  0.78776492 0.75162543 0.78426074 0.77974331\n",
            " 0.81326522 0.8141096  0.79473106 0.83336148 0.85898843 0.83901883\n",
            " 0.85628641 0.87486279 0.88782403 0.90095415 0.92793211 0.948535\n",
            " 0.93333615 0.91746179 0.92544119 0.91771511 0.9483239  0.94064004\n",
            " 0.96635143 0.9563033  0.96491598 0.95859385]\n",
            "1 day output [[0.95916504]]\n",
            "2 day input [0.87431394 0.88431985 0.87836697 0.8986321  0.92582116 0.92877649\n",
            " 0.95676771 0.93869797 0.93304061 0.94950604 0.96424048 0.95512117\n",
            " 0.95989192 0.96635143 0.96246728 0.92295027 0.9598497  0.98792536\n",
            " 0.98594106 0.92531453 0.92172591 0.96474711 0.97572406 0.99159841\n",
            " 0.96972895 0.97614625 0.96795575 1.         0.99016297 0.99050072\n",
            " 0.96538039 0.98488559 0.97086887 0.94026007 0.87748037 0.83483915\n",
            " 0.85413324 0.77336823 0.77269273 0.88014017 0.84007431 0.89673225\n",
            " 0.85527316 0.83884995 0.74233725 0.82327113 0.78143207 0.6665963\n",
            " 0.7921557  0.64118044 0.68614371 0.66001013 0.65203074 0.58642236\n",
            " 0.56586169 0.66089673 0.65515494 0.70970193 0.66452757 0.69437642\n",
            " 0.69218104 0.63569197 0.65266402 0.63780292 0.7267162  0.71388162\n",
            " 0.74191506 0.75002111 0.77222832 0.83049059 0.8194292  0.8289707\n",
            " 0.8125475  0.78776492 0.75162543 0.78426074 0.77974331 0.81326522\n",
            " 0.8141096  0.79473106 0.83336148 0.85898843 0.83901883 0.85628641\n",
            " 0.87486279 0.88782403 0.90095415 0.92793211 0.948535   0.93333615\n",
            " 0.91746179 0.92544119 0.91771511 0.9483239  0.94064004 0.96635143\n",
            " 0.9563033  0.96491598 0.95859385 0.95916504]\n",
            "2 day output [[0.9581139]]\n",
            "3 day input [0.88431985 0.87836697 0.8986321  0.92582116 0.92877649 0.95676771\n",
            " 0.93869797 0.93304061 0.94950604 0.96424048 0.95512117 0.95989192\n",
            " 0.96635143 0.96246728 0.92295027 0.9598497  0.98792536 0.98594106\n",
            " 0.92531453 0.92172591 0.96474711 0.97572406 0.99159841 0.96972895\n",
            " 0.97614625 0.96795575 1.         0.99016297 0.99050072 0.96538039\n",
            " 0.98488559 0.97086887 0.94026007 0.87748037 0.83483915 0.85413324\n",
            " 0.77336823 0.77269273 0.88014017 0.84007431 0.89673225 0.85527316\n",
            " 0.83884995 0.74233725 0.82327113 0.78143207 0.6665963  0.7921557\n",
            " 0.64118044 0.68614371 0.66001013 0.65203074 0.58642236 0.56586169\n",
            " 0.66089673 0.65515494 0.70970193 0.66452757 0.69437642 0.69218104\n",
            " 0.63569197 0.65266402 0.63780292 0.7267162  0.71388162 0.74191506\n",
            " 0.75002111 0.77222832 0.83049059 0.8194292  0.8289707  0.8125475\n",
            " 0.78776492 0.75162543 0.78426074 0.77974331 0.81326522 0.8141096\n",
            " 0.79473106 0.83336148 0.85898843 0.83901883 0.85628641 0.87486279\n",
            " 0.88782403 0.90095415 0.92793211 0.948535   0.93333615 0.91746179\n",
            " 0.92544119 0.91771511 0.9483239  0.94064004 0.96635143 0.9563033\n",
            " 0.96491598 0.95859385 0.95916504 0.95811391]\n",
            "3 day output [[0.9568354]]\n",
            "4 day input [0.87836697 0.8986321  0.92582116 0.92877649 0.95676771 0.93869797\n",
            " 0.93304061 0.94950604 0.96424048 0.95512117 0.95989192 0.96635143\n",
            " 0.96246728 0.92295027 0.9598497  0.98792536 0.98594106 0.92531453\n",
            " 0.92172591 0.96474711 0.97572406 0.99159841 0.96972895 0.97614625\n",
            " 0.96795575 1.         0.99016297 0.99050072 0.96538039 0.98488559\n",
            " 0.97086887 0.94026007 0.87748037 0.83483915 0.85413324 0.77336823\n",
            " 0.77269273 0.88014017 0.84007431 0.89673225 0.85527316 0.83884995\n",
            " 0.74233725 0.82327113 0.78143207 0.6665963  0.7921557  0.64118044\n",
            " 0.68614371 0.66001013 0.65203074 0.58642236 0.56586169 0.66089673\n",
            " 0.65515494 0.70970193 0.66452757 0.69437642 0.69218104 0.63569197\n",
            " 0.65266402 0.63780292 0.7267162  0.71388162 0.74191506 0.75002111\n",
            " 0.77222832 0.83049059 0.8194292  0.8289707  0.8125475  0.78776492\n",
            " 0.75162543 0.78426074 0.77974331 0.81326522 0.8141096  0.79473106\n",
            " 0.83336148 0.85898843 0.83901883 0.85628641 0.87486279 0.88782403\n",
            " 0.90095415 0.92793211 0.948535   0.93333615 0.91746179 0.92544119\n",
            " 0.91771511 0.9483239  0.94064004 0.96635143 0.9563033  0.96491598\n",
            " 0.95859385 0.95916504 0.95811391 0.95683539]\n",
            "4 day output [[0.95592785]]\n",
            "5 day input [0.8986321  0.92582116 0.92877649 0.95676771 0.93869797 0.93304061\n",
            " 0.94950604 0.96424048 0.95512117 0.95989192 0.96635143 0.96246728\n",
            " 0.92295027 0.9598497  0.98792536 0.98594106 0.92531453 0.92172591\n",
            " 0.96474711 0.97572406 0.99159841 0.96972895 0.97614625 0.96795575\n",
            " 1.         0.99016297 0.99050072 0.96538039 0.98488559 0.97086887\n",
            " 0.94026007 0.87748037 0.83483915 0.85413324 0.77336823 0.77269273\n",
            " 0.88014017 0.84007431 0.89673225 0.85527316 0.83884995 0.74233725\n",
            " 0.82327113 0.78143207 0.6665963  0.7921557  0.64118044 0.68614371\n",
            " 0.66001013 0.65203074 0.58642236 0.56586169 0.66089673 0.65515494\n",
            " 0.70970193 0.66452757 0.69437642 0.69218104 0.63569197 0.65266402\n",
            " 0.63780292 0.7267162  0.71388162 0.74191506 0.75002111 0.77222832\n",
            " 0.83049059 0.8194292  0.8289707  0.8125475  0.78776492 0.75162543\n",
            " 0.78426074 0.77974331 0.81326522 0.8141096  0.79473106 0.83336148\n",
            " 0.85898843 0.83901883 0.85628641 0.87486279 0.88782403 0.90095415\n",
            " 0.92793211 0.948535   0.93333615 0.91746179 0.92544119 0.91771511\n",
            " 0.9483239  0.94064004 0.96635143 0.9563033  0.96491598 0.95859385\n",
            " 0.95916504 0.95811391 0.95683539 0.95592785]\n",
            "5 day output [[0.9557266]]\n",
            "6 day input [0.92582116 0.92877649 0.95676771 0.93869797 0.93304061 0.94950604\n",
            " 0.96424048 0.95512117 0.95989192 0.96635143 0.96246728 0.92295027\n",
            " 0.9598497  0.98792536 0.98594106 0.92531453 0.92172591 0.96474711\n",
            " 0.97572406 0.99159841 0.96972895 0.97614625 0.96795575 1.\n",
            " 0.99016297 0.99050072 0.96538039 0.98488559 0.97086887 0.94026007\n",
            " 0.87748037 0.83483915 0.85413324 0.77336823 0.77269273 0.88014017\n",
            " 0.84007431 0.89673225 0.85527316 0.83884995 0.74233725 0.82327113\n",
            " 0.78143207 0.6665963  0.7921557  0.64118044 0.68614371 0.66001013\n",
            " 0.65203074 0.58642236 0.56586169 0.66089673 0.65515494 0.70970193\n",
            " 0.66452757 0.69437642 0.69218104 0.63569197 0.65266402 0.63780292\n",
            " 0.7267162  0.71388162 0.74191506 0.75002111 0.77222832 0.83049059\n",
            " 0.8194292  0.8289707  0.8125475  0.78776492 0.75162543 0.78426074\n",
            " 0.77974331 0.81326522 0.8141096  0.79473106 0.83336148 0.85898843\n",
            " 0.83901883 0.85628641 0.87486279 0.88782403 0.90095415 0.92793211\n",
            " 0.948535   0.93333615 0.91746179 0.92544119 0.91771511 0.9483239\n",
            " 0.94064004 0.96635143 0.9563033  0.96491598 0.95859385 0.95916504\n",
            " 0.95811391 0.95683539 0.95592785 0.95572662]\n",
            "6 day output [[0.9564085]]\n",
            "7 day input [0.92877649 0.95676771 0.93869797 0.93304061 0.94950604 0.96424048\n",
            " 0.95512117 0.95989192 0.96635143 0.96246728 0.92295027 0.9598497\n",
            " 0.98792536 0.98594106 0.92531453 0.92172591 0.96474711 0.97572406\n",
            " 0.99159841 0.96972895 0.97614625 0.96795575 1.         0.99016297\n",
            " 0.99050072 0.96538039 0.98488559 0.97086887 0.94026007 0.87748037\n",
            " 0.83483915 0.85413324 0.77336823 0.77269273 0.88014017 0.84007431\n",
            " 0.89673225 0.85527316 0.83884995 0.74233725 0.82327113 0.78143207\n",
            " 0.6665963  0.7921557  0.64118044 0.68614371 0.66001013 0.65203074\n",
            " 0.58642236 0.56586169 0.66089673 0.65515494 0.70970193 0.66452757\n",
            " 0.69437642 0.69218104 0.63569197 0.65266402 0.63780292 0.7267162\n",
            " 0.71388162 0.74191506 0.75002111 0.77222832 0.83049059 0.8194292\n",
            " 0.8289707  0.8125475  0.78776492 0.75162543 0.78426074 0.77974331\n",
            " 0.81326522 0.8141096  0.79473106 0.83336148 0.85898843 0.83901883\n",
            " 0.85628641 0.87486279 0.88782403 0.90095415 0.92793211 0.948535\n",
            " 0.93333615 0.91746179 0.92544119 0.91771511 0.9483239  0.94064004\n",
            " 0.96635143 0.9563033  0.96491598 0.95859385 0.95916504 0.95811391\n",
            " 0.95683539 0.95592785 0.95572662 0.9564085 ]\n",
            "7 day output [[0.95801747]]\n",
            "8 day input [0.95676771 0.93869797 0.93304061 0.94950604 0.96424048 0.95512117\n",
            " 0.95989192 0.96635143 0.96246728 0.92295027 0.9598497  0.98792536\n",
            " 0.98594106 0.92531453 0.92172591 0.96474711 0.97572406 0.99159841\n",
            " 0.96972895 0.97614625 0.96795575 1.         0.99016297 0.99050072\n",
            " 0.96538039 0.98488559 0.97086887 0.94026007 0.87748037 0.83483915\n",
            " 0.85413324 0.77336823 0.77269273 0.88014017 0.84007431 0.89673225\n",
            " 0.85527316 0.83884995 0.74233725 0.82327113 0.78143207 0.6665963\n",
            " 0.7921557  0.64118044 0.68614371 0.66001013 0.65203074 0.58642236\n",
            " 0.56586169 0.66089673 0.65515494 0.70970193 0.66452757 0.69437642\n",
            " 0.69218104 0.63569197 0.65266402 0.63780292 0.7267162  0.71388162\n",
            " 0.74191506 0.75002111 0.77222832 0.83049059 0.8194292  0.8289707\n",
            " 0.8125475  0.78776492 0.75162543 0.78426074 0.77974331 0.81326522\n",
            " 0.8141096  0.79473106 0.83336148 0.85898843 0.83901883 0.85628641\n",
            " 0.87486279 0.88782403 0.90095415 0.92793211 0.948535   0.93333615\n",
            " 0.91746179 0.92544119 0.91771511 0.9483239  0.94064004 0.96635143\n",
            " 0.9563033  0.96491598 0.95859385 0.95916504 0.95811391 0.95683539\n",
            " 0.95592785 0.95572662 0.9564085  0.95801747]\n",
            "8 day output [[0.9604855]]\n",
            "9 day input [0.93869797 0.93304061 0.94950604 0.96424048 0.95512117 0.95989192\n",
            " 0.96635143 0.96246728 0.92295027 0.9598497  0.98792536 0.98594106\n",
            " 0.92531453 0.92172591 0.96474711 0.97572406 0.99159841 0.96972895\n",
            " 0.97614625 0.96795575 1.         0.99016297 0.99050072 0.96538039\n",
            " 0.98488559 0.97086887 0.94026007 0.87748037 0.83483915 0.85413324\n",
            " 0.77336823 0.77269273 0.88014017 0.84007431 0.89673225 0.85527316\n",
            " 0.83884995 0.74233725 0.82327113 0.78143207 0.6665963  0.7921557\n",
            " 0.64118044 0.68614371 0.66001013 0.65203074 0.58642236 0.56586169\n",
            " 0.66089673 0.65515494 0.70970193 0.66452757 0.69437642 0.69218104\n",
            " 0.63569197 0.65266402 0.63780292 0.7267162  0.71388162 0.74191506\n",
            " 0.75002111 0.77222832 0.83049059 0.8194292  0.8289707  0.8125475\n",
            " 0.78776492 0.75162543 0.78426074 0.77974331 0.81326522 0.8141096\n",
            " 0.79473106 0.83336148 0.85898843 0.83901883 0.85628641 0.87486279\n",
            " 0.88782403 0.90095415 0.92793211 0.948535   0.93333615 0.91746179\n",
            " 0.92544119 0.91771511 0.9483239  0.94064004 0.96635143 0.9563033\n",
            " 0.96491598 0.95859385 0.95916504 0.95811391 0.95683539 0.95592785\n",
            " 0.95572662 0.9564085  0.95801747 0.96048552]\n",
            "9 day output [[0.9636573]]\n",
            "10 day input [0.93304061 0.94950604 0.96424048 0.95512117 0.95989192 0.96635143\n",
            " 0.96246728 0.92295027 0.9598497  0.98792536 0.98594106 0.92531453\n",
            " 0.92172591 0.96474711 0.97572406 0.99159841 0.96972895 0.97614625\n",
            " 0.96795575 1.         0.99016297 0.99050072 0.96538039 0.98488559\n",
            " 0.97086887 0.94026007 0.87748037 0.83483915 0.85413324 0.77336823\n",
            " 0.77269273 0.88014017 0.84007431 0.89673225 0.85527316 0.83884995\n",
            " 0.74233725 0.82327113 0.78143207 0.6665963  0.7921557  0.64118044\n",
            " 0.68614371 0.66001013 0.65203074 0.58642236 0.56586169 0.66089673\n",
            " 0.65515494 0.70970193 0.66452757 0.69437642 0.69218104 0.63569197\n",
            " 0.65266402 0.63780292 0.7267162  0.71388162 0.74191506 0.75002111\n",
            " 0.77222832 0.83049059 0.8194292  0.8289707  0.8125475  0.78776492\n",
            " 0.75162543 0.78426074 0.77974331 0.81326522 0.8141096  0.79473106\n",
            " 0.83336148 0.85898843 0.83901883 0.85628641 0.87486279 0.88782403\n",
            " 0.90095415 0.92793211 0.948535   0.93333615 0.91746179 0.92544119\n",
            " 0.91771511 0.9483239  0.94064004 0.96635143 0.9563033  0.96491598\n",
            " 0.95859385 0.95916504 0.95811391 0.95683539 0.95592785 0.95572662\n",
            " 0.9564085  0.95801747 0.96048552 0.96365732]\n",
            "10 day output [[0.9673222]]\n",
            "11 day input [0.94950604 0.96424048 0.95512117 0.95989192 0.96635143 0.96246728\n",
            " 0.92295027 0.9598497  0.98792536 0.98594106 0.92531453 0.92172591\n",
            " 0.96474711 0.97572406 0.99159841 0.96972895 0.97614625 0.96795575\n",
            " 1.         0.99016297 0.99050072 0.96538039 0.98488559 0.97086887\n",
            " 0.94026007 0.87748037 0.83483915 0.85413324 0.77336823 0.77269273\n",
            " 0.88014017 0.84007431 0.89673225 0.85527316 0.83884995 0.74233725\n",
            " 0.82327113 0.78143207 0.6665963  0.7921557  0.64118044 0.68614371\n",
            " 0.66001013 0.65203074 0.58642236 0.56586169 0.66089673 0.65515494\n",
            " 0.70970193 0.66452757 0.69437642 0.69218104 0.63569197 0.65266402\n",
            " 0.63780292 0.7267162  0.71388162 0.74191506 0.75002111 0.77222832\n",
            " 0.83049059 0.8194292  0.8289707  0.8125475  0.78776492 0.75162543\n",
            " 0.78426074 0.77974331 0.81326522 0.8141096  0.79473106 0.83336148\n",
            " 0.85898843 0.83901883 0.85628641 0.87486279 0.88782403 0.90095415\n",
            " 0.92793211 0.948535   0.93333615 0.91746179 0.92544119 0.91771511\n",
            " 0.9483239  0.94064004 0.96635143 0.9563033  0.96491598 0.95859385\n",
            " 0.95916504 0.95811391 0.95683539 0.95592785 0.95572662 0.9564085\n",
            " 0.95801747 0.96048552 0.96365732 0.96732217]\n",
            "11 day output [[0.9712471]]\n",
            "12 day input [0.96424048 0.95512117 0.95989192 0.96635143 0.96246728 0.92295027\n",
            " 0.9598497  0.98792536 0.98594106 0.92531453 0.92172591 0.96474711\n",
            " 0.97572406 0.99159841 0.96972895 0.97614625 0.96795575 1.\n",
            " 0.99016297 0.99050072 0.96538039 0.98488559 0.97086887 0.94026007\n",
            " 0.87748037 0.83483915 0.85413324 0.77336823 0.77269273 0.88014017\n",
            " 0.84007431 0.89673225 0.85527316 0.83884995 0.74233725 0.82327113\n",
            " 0.78143207 0.6665963  0.7921557  0.64118044 0.68614371 0.66001013\n",
            " 0.65203074 0.58642236 0.56586169 0.66089673 0.65515494 0.70970193\n",
            " 0.66452757 0.69437642 0.69218104 0.63569197 0.65266402 0.63780292\n",
            " 0.7267162  0.71388162 0.74191506 0.75002111 0.77222832 0.83049059\n",
            " 0.8194292  0.8289707  0.8125475  0.78776492 0.75162543 0.78426074\n",
            " 0.77974331 0.81326522 0.8141096  0.79473106 0.83336148 0.85898843\n",
            " 0.83901883 0.85628641 0.87486279 0.88782403 0.90095415 0.92793211\n",
            " 0.948535   0.93333615 0.91746179 0.92544119 0.91771511 0.9483239\n",
            " 0.94064004 0.96635143 0.9563033  0.96491598 0.95859385 0.95916504\n",
            " 0.95811391 0.95683539 0.95592785 0.95572662 0.9564085  0.95801747\n",
            " 0.96048552 0.96365732 0.96732217 0.97124708]\n",
            "12 day output [[0.97520494]]\n",
            "13 day input [0.95512117 0.95989192 0.96635143 0.96246728 0.92295027 0.9598497\n",
            " 0.98792536 0.98594106 0.92531453 0.92172591 0.96474711 0.97572406\n",
            " 0.99159841 0.96972895 0.97614625 0.96795575 1.         0.99016297\n",
            " 0.99050072 0.96538039 0.98488559 0.97086887 0.94026007 0.87748037\n",
            " 0.83483915 0.85413324 0.77336823 0.77269273 0.88014017 0.84007431\n",
            " 0.89673225 0.85527316 0.83884995 0.74233725 0.82327113 0.78143207\n",
            " 0.6665963  0.7921557  0.64118044 0.68614371 0.66001013 0.65203074\n",
            " 0.58642236 0.56586169 0.66089673 0.65515494 0.70970193 0.66452757\n",
            " 0.69437642 0.69218104 0.63569197 0.65266402 0.63780292 0.7267162\n",
            " 0.71388162 0.74191506 0.75002111 0.77222832 0.83049059 0.8194292\n",
            " 0.8289707  0.8125475  0.78776492 0.75162543 0.78426074 0.77974331\n",
            " 0.81326522 0.8141096  0.79473106 0.83336148 0.85898843 0.83901883\n",
            " 0.85628641 0.87486279 0.88782403 0.90095415 0.92793211 0.948535\n",
            " 0.93333615 0.91746179 0.92544119 0.91771511 0.9483239  0.94064004\n",
            " 0.96635143 0.9563033  0.96491598 0.95859385 0.95916504 0.95811391\n",
            " 0.95683539 0.95592785 0.95572662 0.9564085  0.95801747 0.96048552\n",
            " 0.96365732 0.96732217 0.97124708 0.97520494]\n",
            "13 day output [[0.97900206]]\n",
            "14 day input [0.95989192 0.96635143 0.96246728 0.92295027 0.9598497  0.98792536\n",
            " 0.98594106 0.92531453 0.92172591 0.96474711 0.97572406 0.99159841\n",
            " 0.96972895 0.97614625 0.96795575 1.         0.99016297 0.99050072\n",
            " 0.96538039 0.98488559 0.97086887 0.94026007 0.87748037 0.83483915\n",
            " 0.85413324 0.77336823 0.77269273 0.88014017 0.84007431 0.89673225\n",
            " 0.85527316 0.83884995 0.74233725 0.82327113 0.78143207 0.6665963\n",
            " 0.7921557  0.64118044 0.68614371 0.66001013 0.65203074 0.58642236\n",
            " 0.56586169 0.66089673 0.65515494 0.70970193 0.66452757 0.69437642\n",
            " 0.69218104 0.63569197 0.65266402 0.63780292 0.7267162  0.71388162\n",
            " 0.74191506 0.75002111 0.77222832 0.83049059 0.8194292  0.8289707\n",
            " 0.8125475  0.78776492 0.75162543 0.78426074 0.77974331 0.81326522\n",
            " 0.8141096  0.79473106 0.83336148 0.85898843 0.83901883 0.85628641\n",
            " 0.87486279 0.88782403 0.90095415 0.92793211 0.948535   0.93333615\n",
            " 0.91746179 0.92544119 0.91771511 0.9483239  0.94064004 0.96635143\n",
            " 0.9563033  0.96491598 0.95859385 0.95916504 0.95811391 0.95683539\n",
            " 0.95592785 0.95572662 0.9564085  0.95801747 0.96048552 0.96365732\n",
            " 0.96732217 0.97124708 0.97520494 0.97900206]\n",
            "14 day output [[0.9824947]]\n",
            "15 day input [0.96635143 0.96246728 0.92295027 0.9598497  0.98792536 0.98594106\n",
            " 0.92531453 0.92172591 0.96474711 0.97572406 0.99159841 0.96972895\n",
            " 0.97614625 0.96795575 1.         0.99016297 0.99050072 0.96538039\n",
            " 0.98488559 0.97086887 0.94026007 0.87748037 0.83483915 0.85413324\n",
            " 0.77336823 0.77269273 0.88014017 0.84007431 0.89673225 0.85527316\n",
            " 0.83884995 0.74233725 0.82327113 0.78143207 0.6665963  0.7921557\n",
            " 0.64118044 0.68614371 0.66001013 0.65203074 0.58642236 0.56586169\n",
            " 0.66089673 0.65515494 0.70970193 0.66452757 0.69437642 0.69218104\n",
            " 0.63569197 0.65266402 0.63780292 0.7267162  0.71388162 0.74191506\n",
            " 0.75002111 0.77222832 0.83049059 0.8194292  0.8289707  0.8125475\n",
            " 0.78776492 0.75162543 0.78426074 0.77974331 0.81326522 0.8141096\n",
            " 0.79473106 0.83336148 0.85898843 0.83901883 0.85628641 0.87486279\n",
            " 0.88782403 0.90095415 0.92793211 0.948535   0.93333615 0.91746179\n",
            " 0.92544119 0.91771511 0.9483239  0.94064004 0.96635143 0.9563033\n",
            " 0.96491598 0.95859385 0.95916504 0.95811391 0.95683539 0.95592785\n",
            " 0.95572662 0.9564085  0.95801747 0.96048552 0.96365732 0.96732217\n",
            " 0.97124708 0.97520494 0.97900206 0.98249471]\n",
            "15 day output [[0.98559856]]\n",
            "16 day input [0.96246728 0.92295027 0.9598497  0.98792536 0.98594106 0.92531453\n",
            " 0.92172591 0.96474711 0.97572406 0.99159841 0.96972895 0.97614625\n",
            " 0.96795575 1.         0.99016297 0.99050072 0.96538039 0.98488559\n",
            " 0.97086887 0.94026007 0.87748037 0.83483915 0.85413324 0.77336823\n",
            " 0.77269273 0.88014017 0.84007431 0.89673225 0.85527316 0.83884995\n",
            " 0.74233725 0.82327113 0.78143207 0.6665963  0.7921557  0.64118044\n",
            " 0.68614371 0.66001013 0.65203074 0.58642236 0.56586169 0.66089673\n",
            " 0.65515494 0.70970193 0.66452757 0.69437642 0.69218104 0.63569197\n",
            " 0.65266402 0.63780292 0.7267162  0.71388162 0.74191506 0.75002111\n",
            " 0.77222832 0.83049059 0.8194292  0.8289707  0.8125475  0.78776492\n",
            " 0.75162543 0.78426074 0.77974331 0.81326522 0.8141096  0.79473106\n",
            " 0.83336148 0.85898843 0.83901883 0.85628641 0.87486279 0.88782403\n",
            " 0.90095415 0.92793211 0.948535   0.93333615 0.91746179 0.92544119\n",
            " 0.91771511 0.9483239  0.94064004 0.96635143 0.9563033  0.96491598\n",
            " 0.95859385 0.95916504 0.95811391 0.95683539 0.95592785 0.95572662\n",
            " 0.9564085  0.95801747 0.96048552 0.96365732 0.96732217 0.97124708\n",
            " 0.97520494 0.97900206 0.98249471 0.98559856]\n",
            "16 day output [[0.9882887]]\n",
            "17 day input [0.92295027 0.9598497  0.98792536 0.98594106 0.92531453 0.92172591\n",
            " 0.96474711 0.97572406 0.99159841 0.96972895 0.97614625 0.96795575\n",
            " 1.         0.99016297 0.99050072 0.96538039 0.98488559 0.97086887\n",
            " 0.94026007 0.87748037 0.83483915 0.85413324 0.77336823 0.77269273\n",
            " 0.88014017 0.84007431 0.89673225 0.85527316 0.83884995 0.74233725\n",
            " 0.82327113 0.78143207 0.6665963  0.7921557  0.64118044 0.68614371\n",
            " 0.66001013 0.65203074 0.58642236 0.56586169 0.66089673 0.65515494\n",
            " 0.70970193 0.66452757 0.69437642 0.69218104 0.63569197 0.65266402\n",
            " 0.63780292 0.7267162  0.71388162 0.74191506 0.75002111 0.77222832\n",
            " 0.83049059 0.8194292  0.8289707  0.8125475  0.78776492 0.75162543\n",
            " 0.78426074 0.77974331 0.81326522 0.8141096  0.79473106 0.83336148\n",
            " 0.85898843 0.83901883 0.85628641 0.87486279 0.88782403 0.90095415\n",
            " 0.92793211 0.948535   0.93333615 0.91746179 0.92544119 0.91771511\n",
            " 0.9483239  0.94064004 0.96635143 0.9563033  0.96491598 0.95859385\n",
            " 0.95916504 0.95811391 0.95683539 0.95592785 0.95572662 0.9564085\n",
            " 0.95801747 0.96048552 0.96365732 0.96732217 0.97124708 0.97520494\n",
            " 0.97900206 0.98249471 0.98559856 0.9882887 ]\n",
            "17 day output [[0.99059397]]\n",
            "18 day input [0.9598497  0.98792536 0.98594106 0.92531453 0.92172591 0.96474711\n",
            " 0.97572406 0.99159841 0.96972895 0.97614625 0.96795575 1.\n",
            " 0.99016297 0.99050072 0.96538039 0.98488559 0.97086887 0.94026007\n",
            " 0.87748037 0.83483915 0.85413324 0.77336823 0.77269273 0.88014017\n",
            " 0.84007431 0.89673225 0.85527316 0.83884995 0.74233725 0.82327113\n",
            " 0.78143207 0.6665963  0.7921557  0.64118044 0.68614371 0.66001013\n",
            " 0.65203074 0.58642236 0.56586169 0.66089673 0.65515494 0.70970193\n",
            " 0.66452757 0.69437642 0.69218104 0.63569197 0.65266402 0.63780292\n",
            " 0.7267162  0.71388162 0.74191506 0.75002111 0.77222832 0.83049059\n",
            " 0.8194292  0.8289707  0.8125475  0.78776492 0.75162543 0.78426074\n",
            " 0.77974331 0.81326522 0.8141096  0.79473106 0.83336148 0.85898843\n",
            " 0.83901883 0.85628641 0.87486279 0.88782403 0.90095415 0.92793211\n",
            " 0.948535   0.93333615 0.91746179 0.92544119 0.91771511 0.9483239\n",
            " 0.94064004 0.96635143 0.9563033  0.96491598 0.95859385 0.95916504\n",
            " 0.95811391 0.95683539 0.95592785 0.95572662 0.9564085  0.95801747\n",
            " 0.96048552 0.96365732 0.96732217 0.97124708 0.97520494 0.97900206\n",
            " 0.98249471 0.98559856 0.9882887  0.99059397]\n",
            "18 day output [[0.9925845]]\n",
            "19 day input [0.98792536 0.98594106 0.92531453 0.92172591 0.96474711 0.97572406\n",
            " 0.99159841 0.96972895 0.97614625 0.96795575 1.         0.99016297\n",
            " 0.99050072 0.96538039 0.98488559 0.97086887 0.94026007 0.87748037\n",
            " 0.83483915 0.85413324 0.77336823 0.77269273 0.88014017 0.84007431\n",
            " 0.89673225 0.85527316 0.83884995 0.74233725 0.82327113 0.78143207\n",
            " 0.6665963  0.7921557  0.64118044 0.68614371 0.66001013 0.65203074\n",
            " 0.58642236 0.56586169 0.66089673 0.65515494 0.70970193 0.66452757\n",
            " 0.69437642 0.69218104 0.63569197 0.65266402 0.63780292 0.7267162\n",
            " 0.71388162 0.74191506 0.75002111 0.77222832 0.83049059 0.8194292\n",
            " 0.8289707  0.8125475  0.78776492 0.75162543 0.78426074 0.77974331\n",
            " 0.81326522 0.8141096  0.79473106 0.83336148 0.85898843 0.83901883\n",
            " 0.85628641 0.87486279 0.88782403 0.90095415 0.92793211 0.948535\n",
            " 0.93333615 0.91746179 0.92544119 0.91771511 0.9483239  0.94064004\n",
            " 0.96635143 0.9563033  0.96491598 0.95859385 0.95916504 0.95811391\n",
            " 0.95683539 0.95592785 0.95572662 0.9564085  0.95801747 0.96048552\n",
            " 0.96365732 0.96732217 0.97124708 0.97520494 0.97900206 0.98249471\n",
            " 0.98559856 0.9882887  0.99059397 0.99258453]\n",
            "19 day output [[0.9943559]]\n",
            "20 day input [0.98594106 0.92531453 0.92172591 0.96474711 0.97572406 0.99159841\n",
            " 0.96972895 0.97614625 0.96795575 1.         0.99016297 0.99050072\n",
            " 0.96538039 0.98488559 0.97086887 0.94026007 0.87748037 0.83483915\n",
            " 0.85413324 0.77336823 0.77269273 0.88014017 0.84007431 0.89673225\n",
            " 0.85527316 0.83884995 0.74233725 0.82327113 0.78143207 0.6665963\n",
            " 0.7921557  0.64118044 0.68614371 0.66001013 0.65203074 0.58642236\n",
            " 0.56586169 0.66089673 0.65515494 0.70970193 0.66452757 0.69437642\n",
            " 0.69218104 0.63569197 0.65266402 0.63780292 0.7267162  0.71388162\n",
            " 0.74191506 0.75002111 0.77222832 0.83049059 0.8194292  0.8289707\n",
            " 0.8125475  0.78776492 0.75162543 0.78426074 0.77974331 0.81326522\n",
            " 0.8141096  0.79473106 0.83336148 0.85898843 0.83901883 0.85628641\n",
            " 0.87486279 0.88782403 0.90095415 0.92793211 0.948535   0.93333615\n",
            " 0.91746179 0.92544119 0.91771511 0.9483239  0.94064004 0.96635143\n",
            " 0.9563033  0.96491598 0.95859385 0.95916504 0.95811391 0.95683539\n",
            " 0.95592785 0.95572662 0.9564085  0.95801747 0.96048552 0.96365732\n",
            " 0.96732217 0.97124708 0.97520494 0.97900206 0.98249471 0.98559856\n",
            " 0.9882887  0.99059397 0.99258453 0.99435592]\n",
            "20 day output [[0.99601495]]\n",
            "21 day input [0.92531453 0.92172591 0.96474711 0.97572406 0.99159841 0.96972895\n",
            " 0.97614625 0.96795575 1.         0.99016297 0.99050072 0.96538039\n",
            " 0.98488559 0.97086887 0.94026007 0.87748037 0.83483915 0.85413324\n",
            " 0.77336823 0.77269273 0.88014017 0.84007431 0.89673225 0.85527316\n",
            " 0.83884995 0.74233725 0.82327113 0.78143207 0.6665963  0.7921557\n",
            " 0.64118044 0.68614371 0.66001013 0.65203074 0.58642236 0.56586169\n",
            " 0.66089673 0.65515494 0.70970193 0.66452757 0.69437642 0.69218104\n",
            " 0.63569197 0.65266402 0.63780292 0.7267162  0.71388162 0.74191506\n",
            " 0.75002111 0.77222832 0.83049059 0.8194292  0.8289707  0.8125475\n",
            " 0.78776492 0.75162543 0.78426074 0.77974331 0.81326522 0.8141096\n",
            " 0.79473106 0.83336148 0.85898843 0.83901883 0.85628641 0.87486279\n",
            " 0.88782403 0.90095415 0.92793211 0.948535   0.93333615 0.91746179\n",
            " 0.92544119 0.91771511 0.9483239  0.94064004 0.96635143 0.9563033\n",
            " 0.96491598 0.95859385 0.95916504 0.95811391 0.95683539 0.95592785\n",
            " 0.95572662 0.9564085  0.95801747 0.96048552 0.96365732 0.96732217\n",
            " 0.97124708 0.97520494 0.97900206 0.98249471 0.98559856 0.9882887\n",
            " 0.99059397 0.99258453 0.99435592 0.99601495]\n",
            "21 day output [[0.9976631]]\n",
            "22 day input [0.92172591 0.96474711 0.97572406 0.99159841 0.96972895 0.97614625\n",
            " 0.96795575 1.         0.99016297 0.99050072 0.96538039 0.98488559\n",
            " 0.97086887 0.94026007 0.87748037 0.83483915 0.85413324 0.77336823\n",
            " 0.77269273 0.88014017 0.84007431 0.89673225 0.85527316 0.83884995\n",
            " 0.74233725 0.82327113 0.78143207 0.6665963  0.7921557  0.64118044\n",
            " 0.68614371 0.66001013 0.65203074 0.58642236 0.56586169 0.66089673\n",
            " 0.65515494 0.70970193 0.66452757 0.69437642 0.69218104 0.63569197\n",
            " 0.65266402 0.63780292 0.7267162  0.71388162 0.74191506 0.75002111\n",
            " 0.77222832 0.83049059 0.8194292  0.8289707  0.8125475  0.78776492\n",
            " 0.75162543 0.78426074 0.77974331 0.81326522 0.8141096  0.79473106\n",
            " 0.83336148 0.85898843 0.83901883 0.85628641 0.87486279 0.88782403\n",
            " 0.90095415 0.92793211 0.948535   0.93333615 0.91746179 0.92544119\n",
            " 0.91771511 0.9483239  0.94064004 0.96635143 0.9563033  0.96491598\n",
            " 0.95859385 0.95916504 0.95811391 0.95683539 0.95592785 0.95572662\n",
            " 0.9564085  0.95801747 0.96048552 0.96365732 0.96732217 0.97124708\n",
            " 0.97520494 0.97900206 0.98249471 0.98559856 0.9882887  0.99059397\n",
            " 0.99258453 0.99435592 0.99601495 0.99766308]\n",
            "22 day output [[0.99938536]]\n",
            "23 day input [0.96474711 0.97572406 0.99159841 0.96972895 0.97614625 0.96795575\n",
            " 1.         0.99016297 0.99050072 0.96538039 0.98488559 0.97086887\n",
            " 0.94026007 0.87748037 0.83483915 0.85413324 0.77336823 0.77269273\n",
            " 0.88014017 0.84007431 0.89673225 0.85527316 0.83884995 0.74233725\n",
            " 0.82327113 0.78143207 0.6665963  0.7921557  0.64118044 0.68614371\n",
            " 0.66001013 0.65203074 0.58642236 0.56586169 0.66089673 0.65515494\n",
            " 0.70970193 0.66452757 0.69437642 0.69218104 0.63569197 0.65266402\n",
            " 0.63780292 0.7267162  0.71388162 0.74191506 0.75002111 0.77222832\n",
            " 0.83049059 0.8194292  0.8289707  0.8125475  0.78776492 0.75162543\n",
            " 0.78426074 0.77974331 0.81326522 0.8141096  0.79473106 0.83336148\n",
            " 0.85898843 0.83901883 0.85628641 0.87486279 0.88782403 0.90095415\n",
            " 0.92793211 0.948535   0.93333615 0.91746179 0.92544119 0.91771511\n",
            " 0.9483239  0.94064004 0.96635143 0.9563033  0.96491598 0.95859385\n",
            " 0.95916504 0.95811391 0.95683539 0.95592785 0.95572662 0.9564085\n",
            " 0.95801747 0.96048552 0.96365732 0.96732217 0.97124708 0.97520494\n",
            " 0.97900206 0.98249471 0.98559856 0.9882887  0.99059397 0.99258453\n",
            " 0.99435592 0.99601495 0.99766308 0.99938536]\n",
            "23 day output [[1.0012425]]\n",
            "24 day input [0.97572406 0.99159841 0.96972895 0.97614625 0.96795575 1.\n",
            " 0.99016297 0.99050072 0.96538039 0.98488559 0.97086887 0.94026007\n",
            " 0.87748037 0.83483915 0.85413324 0.77336823 0.77269273 0.88014017\n",
            " 0.84007431 0.89673225 0.85527316 0.83884995 0.74233725 0.82327113\n",
            " 0.78143207 0.6665963  0.7921557  0.64118044 0.68614371 0.66001013\n",
            " 0.65203074 0.58642236 0.56586169 0.66089673 0.65515494 0.70970193\n",
            " 0.66452757 0.69437642 0.69218104 0.63569197 0.65266402 0.63780292\n",
            " 0.7267162  0.71388162 0.74191506 0.75002111 0.77222832 0.83049059\n",
            " 0.8194292  0.8289707  0.8125475  0.78776492 0.75162543 0.78426074\n",
            " 0.77974331 0.81326522 0.8141096  0.79473106 0.83336148 0.85898843\n",
            " 0.83901883 0.85628641 0.87486279 0.88782403 0.90095415 0.92793211\n",
            " 0.948535   0.93333615 0.91746179 0.92544119 0.91771511 0.9483239\n",
            " 0.94064004 0.96635143 0.9563033  0.96491598 0.95859385 0.95916504\n",
            " 0.95811391 0.95683539 0.95592785 0.95572662 0.9564085  0.95801747\n",
            " 0.96048552 0.96365732 0.96732217 0.97124708 0.97520494 0.97900206\n",
            " 0.98249471 0.98559856 0.9882887  0.99059397 0.99258453 0.99435592\n",
            " 0.99601495 0.99766308 0.99938536 1.00124252]\n",
            "24 day output [[1.003268]]\n",
            "25 day input [0.99159841 0.96972895 0.97614625 0.96795575 1.         0.99016297\n",
            " 0.99050072 0.96538039 0.98488559 0.97086887 0.94026007 0.87748037\n",
            " 0.83483915 0.85413324 0.77336823 0.77269273 0.88014017 0.84007431\n",
            " 0.89673225 0.85527316 0.83884995 0.74233725 0.82327113 0.78143207\n",
            " 0.6665963  0.7921557  0.64118044 0.68614371 0.66001013 0.65203074\n",
            " 0.58642236 0.56586169 0.66089673 0.65515494 0.70970193 0.66452757\n",
            " 0.69437642 0.69218104 0.63569197 0.65266402 0.63780292 0.7267162\n",
            " 0.71388162 0.74191506 0.75002111 0.77222832 0.83049059 0.8194292\n",
            " 0.8289707  0.8125475  0.78776492 0.75162543 0.78426074 0.77974331\n",
            " 0.81326522 0.8141096  0.79473106 0.83336148 0.85898843 0.83901883\n",
            " 0.85628641 0.87486279 0.88782403 0.90095415 0.92793211 0.948535\n",
            " 0.93333615 0.91746179 0.92544119 0.91771511 0.9483239  0.94064004\n",
            " 0.96635143 0.9563033  0.96491598 0.95859385 0.95916504 0.95811391\n",
            " 0.95683539 0.95592785 0.95572662 0.9564085  0.95801747 0.96048552\n",
            " 0.96365732 0.96732217 0.97124708 0.97520494 0.97900206 0.98249471\n",
            " 0.98559856 0.9882887  0.99059397 0.99258453 0.99435592 0.99601495\n",
            " 0.99766308 0.99938536 1.00124252 1.003268  ]\n",
            "25 day output [[1.0054659]]\n",
            "26 day input [0.96972895 0.97614625 0.96795575 1.         0.99016297 0.99050072\n",
            " 0.96538039 0.98488559 0.97086887 0.94026007 0.87748037 0.83483915\n",
            " 0.85413324 0.77336823 0.77269273 0.88014017 0.84007431 0.89673225\n",
            " 0.85527316 0.83884995 0.74233725 0.82327113 0.78143207 0.6665963\n",
            " 0.7921557  0.64118044 0.68614371 0.66001013 0.65203074 0.58642236\n",
            " 0.56586169 0.66089673 0.65515494 0.70970193 0.66452757 0.69437642\n",
            " 0.69218104 0.63569197 0.65266402 0.63780292 0.7267162  0.71388162\n",
            " 0.74191506 0.75002111 0.77222832 0.83049059 0.8194292  0.8289707\n",
            " 0.8125475  0.78776492 0.75162543 0.78426074 0.77974331 0.81326522\n",
            " 0.8141096  0.79473106 0.83336148 0.85898843 0.83901883 0.85628641\n",
            " 0.87486279 0.88782403 0.90095415 0.92793211 0.948535   0.93333615\n",
            " 0.91746179 0.92544119 0.91771511 0.9483239  0.94064004 0.96635143\n",
            " 0.9563033  0.96491598 0.95859385 0.95916504 0.95811391 0.95683539\n",
            " 0.95592785 0.95572662 0.9564085  0.95801747 0.96048552 0.96365732\n",
            " 0.96732217 0.97124708 0.97520494 0.97900206 0.98249471 0.98559856\n",
            " 0.9882887  0.99059397 0.99258453 0.99435592 0.99601495 0.99766308\n",
            " 0.99938536 1.00124252 1.003268   1.00546587]\n",
            "26 day output [[1.0078173]]\n",
            "27 day input [0.97614625 0.96795575 1.         0.99016297 0.99050072 0.96538039\n",
            " 0.98488559 0.97086887 0.94026007 0.87748037 0.83483915 0.85413324\n",
            " 0.77336823 0.77269273 0.88014017 0.84007431 0.89673225 0.85527316\n",
            " 0.83884995 0.74233725 0.82327113 0.78143207 0.6665963  0.7921557\n",
            " 0.64118044 0.68614371 0.66001013 0.65203074 0.58642236 0.56586169\n",
            " 0.66089673 0.65515494 0.70970193 0.66452757 0.69437642 0.69218104\n",
            " 0.63569197 0.65266402 0.63780292 0.7267162  0.71388162 0.74191506\n",
            " 0.75002111 0.77222832 0.83049059 0.8194292  0.8289707  0.8125475\n",
            " 0.78776492 0.75162543 0.78426074 0.77974331 0.81326522 0.8141096\n",
            " 0.79473106 0.83336148 0.85898843 0.83901883 0.85628641 0.87486279\n",
            " 0.88782403 0.90095415 0.92793211 0.948535   0.93333615 0.91746179\n",
            " 0.92544119 0.91771511 0.9483239  0.94064004 0.96635143 0.9563033\n",
            " 0.96491598 0.95859385 0.95916504 0.95811391 0.95683539 0.95592785\n",
            " 0.95572662 0.9564085  0.95801747 0.96048552 0.96365732 0.96732217\n",
            " 0.97124708 0.97520494 0.97900206 0.98249471 0.98559856 0.9882887\n",
            " 0.99059397 0.99258453 0.99435592 0.99601495 0.99766308 0.99938536\n",
            " 1.00124252 1.003268   1.00546587 1.00781727]\n",
            "27 day output [[1.0102849]]\n",
            "28 day input [0.96795575 1.         0.99016297 0.99050072 0.96538039 0.98488559\n",
            " 0.97086887 0.94026007 0.87748037 0.83483915 0.85413324 0.77336823\n",
            " 0.77269273 0.88014017 0.84007431 0.89673225 0.85527316 0.83884995\n",
            " 0.74233725 0.82327113 0.78143207 0.6665963  0.7921557  0.64118044\n",
            " 0.68614371 0.66001013 0.65203074 0.58642236 0.56586169 0.66089673\n",
            " 0.65515494 0.70970193 0.66452757 0.69437642 0.69218104 0.63569197\n",
            " 0.65266402 0.63780292 0.7267162  0.71388162 0.74191506 0.75002111\n",
            " 0.77222832 0.83049059 0.8194292  0.8289707  0.8125475  0.78776492\n",
            " 0.75162543 0.78426074 0.77974331 0.81326522 0.8141096  0.79473106\n",
            " 0.83336148 0.85898843 0.83901883 0.85628641 0.87486279 0.88782403\n",
            " 0.90095415 0.92793211 0.948535   0.93333615 0.91746179 0.92544119\n",
            " 0.91771511 0.9483239  0.94064004 0.96635143 0.9563033  0.96491598\n",
            " 0.95859385 0.95916504 0.95811391 0.95683539 0.95592785 0.95572662\n",
            " 0.9564085  0.95801747 0.96048552 0.96365732 0.96732217 0.97124708\n",
            " 0.97520494 0.97900206 0.98249471 0.98559856 0.9882887  0.99059397\n",
            " 0.99258453 0.99435592 0.99601495 0.99766308 0.99938536 1.00124252\n",
            " 1.003268   1.00546587 1.00781727 1.0102849 ]\n",
            "28 day output [[1.0128214]]\n",
            "29 day input [1.         0.99016297 0.99050072 0.96538039 0.98488559 0.97086887\n",
            " 0.94026007 0.87748037 0.83483915 0.85413324 0.77336823 0.77269273\n",
            " 0.88014017 0.84007431 0.89673225 0.85527316 0.83884995 0.74233725\n",
            " 0.82327113 0.78143207 0.6665963  0.7921557  0.64118044 0.68614371\n",
            " 0.66001013 0.65203074 0.58642236 0.56586169 0.66089673 0.65515494\n",
            " 0.70970193 0.66452757 0.69437642 0.69218104 0.63569197 0.65266402\n",
            " 0.63780292 0.7267162  0.71388162 0.74191506 0.75002111 0.77222832\n",
            " 0.83049059 0.8194292  0.8289707  0.8125475  0.78776492 0.75162543\n",
            " 0.78426074 0.77974331 0.81326522 0.8141096  0.79473106 0.83336148\n",
            " 0.85898843 0.83901883 0.85628641 0.87486279 0.88782403 0.90095415\n",
            " 0.92793211 0.948535   0.93333615 0.91746179 0.92544119 0.91771511\n",
            " 0.9483239  0.94064004 0.96635143 0.9563033  0.96491598 0.95859385\n",
            " 0.95916504 0.95811391 0.95683539 0.95592785 0.95572662 0.9564085\n",
            " 0.95801747 0.96048552 0.96365732 0.96732217 0.97124708 0.97520494\n",
            " 0.97900206 0.98249471 0.98559856 0.9882887  0.99059397 0.99258453\n",
            " 0.99435592 0.99601495 0.99766308 0.99938536 1.00124252 1.003268\n",
            " 1.00546587 1.00781727 1.0102849  1.01282144]\n",
            "29 day output [[1.015375]]\n",
            "[[0.9585938453674316], [0.9591650366783142], [0.9581139087677002], [0.9568353891372681], [0.955927848815918], [0.9557266235351562], [0.9564085006713867], [0.9580174684524536], [0.9604855179786682], [0.9636573195457458], [0.9673221707344055], [0.9712470769882202], [0.9752049446105957], [0.979002058506012], [0.9824947118759155], [0.9855985641479492], [0.9882887005805969], [0.9905939698219299], [0.9925845265388489], [0.9943559169769287], [0.9960149526596069], [0.9976630806922913], [0.9993853569030762], [1.0012425184249878], [1.0032680034637451], [1.0054658651351929], [1.007817268371582], [1.0102849006652832], [1.0128214359283447], [1.015375018119812]]\n"
          ],
          "name": "stdout"
        }
      ]
    },
    {
      "cell_type": "code",
      "metadata": {
        "id": "ynWpfnHm7o0I"
      },
      "source": [
        "day_new=np.arange(1,101)\r\n",
        "day_pred=np.arange(101,131)"
      ],
      "execution_count": 44,
      "outputs": []
    },
    {
      "cell_type": "code",
      "metadata": {
        "id": "G4N05RhX7t4j"
      },
      "source": [
        "\r\n",
        "import matplotlib.pyplot as plt"
      ],
      "execution_count": 45,
      "outputs": []
    },
    {
      "cell_type": "code",
      "metadata": {
        "colab": {
          "base_uri": "https://localhost:8080/"
        },
        "id": "edRYQogQ7v_x",
        "outputId": "0a9ac157-37d1-47d8-96ed-18cb2129d9d4"
      },
      "source": [
        "len(df1)"
      ],
      "execution_count": 46,
      "outputs": [
        {
          "output_type": "execute_result",
          "data": {
            "text/plain": [
              "1258"
            ]
          },
          "metadata": {
            "tags": []
          },
          "execution_count": 46
        }
      ]
    },
    {
      "cell_type": "code",
      "metadata": {
        "colab": {
          "base_uri": "https://localhost:8080/",
          "height": 282
        },
        "id": "t93BMh867yBb",
        "outputId": "83682277-8d00-47a1-92ff-3b6cf363a38b"
      },
      "source": [
        "plt.plot(day_new,scaler.inverse_transform(df1[1158:]))\r\n",
        "plt.plot(day_pred,scaler.inverse_transform(lst_output))"
      ],
      "execution_count": 47,
      "outputs": [
        {
          "output_type": "execute_result",
          "data": {
            "text/plain": [
              "[<matplotlib.lines.Line2D at 0x7f83ff91b080>]"
            ]
          },
          "metadata": {
            "tags": []
          },
          "execution_count": 47
        },
        {
          "output_type": "display_data",
          "data": {
            "image/png": "[encoded data removed]",
            "text/plain": [
              "<Figure size 432x288 with 1 Axes>"
            ]
          },
          "metadata": {
            "tags": [],
            "needs_background": "light"
          }
        }
      ]
    },
    {
      "cell_type": "code",
      "metadata": {
        "colab": {
          "base_uri": "https://localhost:8080/",
          "height": 282
        },
        "id": "Ubm6wNhO70s4",
        "outputId": "0eda7378-b5e1-4200-b8da-aac2e96ec2b6"
      },
      "source": [
        "df3=df1.tolist()\r\n",
        "df3.extend(lst_output)\r\n",
        "plt.plot(df3[1200:])"
      ],
      "execution_count": 48,
      "outputs": [
        {
          "output_type": "execute_result",
          "data": {
            "text/plain": [
              "[<matplotlib.lines.Line2D at 0x7f83ff2aaeb8>]"
            ]
          },
          "metadata": {
            "tags": []
          },
          "execution_count": 48
        },
        {
          "output_type": "display_data",
          "data": {
            "image/png": "[encoded data removed]",
            "text/plain": [
              "<Figure size 432x288 with 1 Axes>"
            ]
          },
          "metadata": {
            "tags": [],
            "needs_background": "light"
          }
        }
      ]
    },
    {
      "cell_type": "code",
      "metadata": {
        "id": "5aUOhUBe73mJ"
      },
      "source": [
        "df3=scaler.inverse_transform(df3).tolist()"
      ],
      "execution_count": 49,
      "outputs": []
    },
    {
      "cell_type": "code",
      "metadata": {
        "colab": {
          "base_uri": "https://localhost:8080/",
          "height": 282
        },
        "id": "-mPqxasN76Mz",
        "outputId": "d1e4ddbc-18e9-421c-9b0c-7a8fcfa5e35b"
      },
      "source": [
        "plt.plot(df3)"
      ],
      "execution_count": 50,
      "outputs": [
        {
          "output_type": "execute_result",
          "data": {
            "text/plain": [
              "[<matplotlib.lines.Line2D at 0x7f840330d1d0>]"
            ]
          },
          "metadata": {
            "tags": []
          },
          "execution_count": 50
        },
        {
          "output_type": "display_data",
          "data": {
            "image/png": "[encoded data removed]",
            "text/plain": [
              "<Figure size 432x288 with 1 Axes>"
            ]
          },
          "metadata": {
            "tags": [],
            "needs_background": "light"
          }
        }
      ]
    },
    {
      "cell_type": "code",
      "metadata": {
        "id": "mJmz35Vj788r"
      },
      "source": [
        ""
      ],
      "execution_count": null,
      "outputs": []
    }
  ]
}